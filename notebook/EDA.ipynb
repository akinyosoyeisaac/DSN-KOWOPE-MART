{
 "cells": [
  {
   "cell_type": "markdown",
   "metadata": {},
   "source": [
    "## LOADING LIBRARIES"
   ]
  },
  {
   "cell_type": "code",
   "execution_count": 131,
   "metadata": {},
   "outputs": [],
   "source": [
    "import pandas as pd\n",
    "import numpy as np\n",
    "import seaborn as sns\n",
    "import matplotlib.pyplot as plt\n",
    "from sklearn.impute import SimpleImputer\n",
    "from sklearn.preprocessing import StandardScaler\n",
    "from sklearn.ensemble import RandomForestClassifier\n",
    "from xgboost import XGBClassifier\n",
    "from lightgbm import LGBMClassifier\n",
    "from imblearn.over_sampling import SMOTE\n",
    "from imblearn.pipeline import make_pipeline\n",
    "from sklearn.model_selection import StratifiedShuffleSplit\n",
    "from sklearn.metrics import classification_report, RocCurveDisplay, ConfusionMatrixDisplay\n",
    "from pandas_profiling import ProfileReport\n",
    "import pickle as pk\n",
    "%matplotlib inline"
   ]
  },
  {
   "cell_type": "code",
   "execution_count": 2,
   "metadata": {},
   "outputs": [
    {
     "name": "stdout",
     "output_type": "stream",
     "text": [
      "c:\\Users\\CARNOT\\DSN\\DSN-KOWOPE-MART\n"
     ]
    }
   ],
   "source": [
    "%cd .."
   ]
  },
  {
   "cell_type": "markdown",
   "metadata": {},
   "source": [
    "## Files Directory"
   ]
  },
  {
   "cell_type": "code",
   "execution_count": 3,
   "metadata": {},
   "outputs": [],
   "source": [
    "train_dir = \"data/Train.csv\"\n",
    "test_dir = \"data/Test.csv\""
   ]
  },
  {
   "cell_type": "markdown",
   "metadata": {},
   "source": [
    "## Loading Train data"
   ]
  },
  {
   "cell_type": "code",
   "execution_count": 4,
   "metadata": {
    "scrolled": true
   },
   "outputs": [
    {
     "data": {
      "text/html": [
       "<div>\n",
       "<style scoped>\n",
       "    .dataframe tbody tr th:only-of-type {\n",
       "        vertical-align: middle;\n",
       "    }\n",
       "\n",
       "    .dataframe tbody tr th {\n",
       "        vertical-align: top;\n",
       "    }\n",
       "\n",
       "    .dataframe thead th {\n",
       "        text-align: right;\n",
       "    }\n",
       "</style>\n",
       "<table border=\"1\" class=\"dataframe\">\n",
       "  <thead>\n",
       "    <tr style=\"text-align: right;\">\n",
       "      <th></th>\n",
       "      <th>Applicant_ID</th>\n",
       "      <th>form_field1</th>\n",
       "      <th>form_field2</th>\n",
       "      <th>form_field3</th>\n",
       "      <th>form_field4</th>\n",
       "      <th>form_field5</th>\n",
       "      <th>form_field6</th>\n",
       "      <th>form_field7</th>\n",
       "      <th>form_field8</th>\n",
       "      <th>form_field9</th>\n",
       "      <th>...</th>\n",
       "      <th>form_field42</th>\n",
       "      <th>form_field43</th>\n",
       "      <th>form_field44</th>\n",
       "      <th>form_field45</th>\n",
       "      <th>form_field46</th>\n",
       "      <th>form_field47</th>\n",
       "      <th>form_field48</th>\n",
       "      <th>form_field49</th>\n",
       "      <th>form_field50</th>\n",
       "      <th>default_status</th>\n",
       "    </tr>\n",
       "  </thead>\n",
       "  <tbody>\n",
       "    <tr>\n",
       "      <th>0</th>\n",
       "      <td>Apcnt_1000000</td>\n",
       "      <td>3436.0</td>\n",
       "      <td>0.28505</td>\n",
       "      <td>1.6560</td>\n",
       "      <td>0.0</td>\n",
       "      <td>0.000</td>\n",
       "      <td>0.0</td>\n",
       "      <td>10689720.0</td>\n",
       "      <td>252072.0</td>\n",
       "      <td>4272776.0</td>\n",
       "      <td>...</td>\n",
       "      <td>0.392854</td>\n",
       "      <td>2.02</td>\n",
       "      <td>0.711632</td>\n",
       "      <td>0.0</td>\n",
       "      <td>0.0</td>\n",
       "      <td>charge</td>\n",
       "      <td>NaN</td>\n",
       "      <td>1.129518</td>\n",
       "      <td>0.044335</td>\n",
       "      <td>no</td>\n",
       "    </tr>\n",
       "    <tr>\n",
       "      <th>1</th>\n",
       "      <td>Apcnt_1000004</td>\n",
       "      <td>3456.0</td>\n",
       "      <td>0.67400</td>\n",
       "      <td>0.2342</td>\n",
       "      <td>0.0</td>\n",
       "      <td>0.000</td>\n",
       "      <td>0.0</td>\n",
       "      <td>898979.0</td>\n",
       "      <td>497531.0</td>\n",
       "      <td>9073814.0</td>\n",
       "      <td>...</td>\n",
       "      <td>0.314281</td>\n",
       "      <td>8.08</td>\n",
       "      <td>0.183584</td>\n",
       "      <td>NaN</td>\n",
       "      <td>0.0</td>\n",
       "      <td>charge</td>\n",
       "      <td>349.805730</td>\n",
       "      <td>1.620483</td>\n",
       "      <td>0.322436</td>\n",
       "      <td>no</td>\n",
       "    </tr>\n",
       "    <tr>\n",
       "      <th>2</th>\n",
       "      <td>Apcnt_1000008</td>\n",
       "      <td>3276.0</td>\n",
       "      <td>0.53845</td>\n",
       "      <td>3.1510</td>\n",
       "      <td>0.0</td>\n",
       "      <td>6.282</td>\n",
       "      <td>NaN</td>\n",
       "      <td>956940.0</td>\n",
       "      <td>NaN</td>\n",
       "      <td>192944.0</td>\n",
       "      <td>...</td>\n",
       "      <td>0.162965</td>\n",
       "      <td>18.18</td>\n",
       "      <td>0.791136</td>\n",
       "      <td>0.0</td>\n",
       "      <td>0.0</td>\n",
       "      <td>charge</td>\n",
       "      <td>NaN</td>\n",
       "      <td>1.513370</td>\n",
       "      <td>0.011640</td>\n",
       "      <td>yes</td>\n",
       "    </tr>\n",
       "    <tr>\n",
       "      <th>3</th>\n",
       "      <td>Apcnt_1000012</td>\n",
       "      <td>3372.0</td>\n",
       "      <td>0.17005</td>\n",
       "      <td>0.5050</td>\n",
       "      <td>0.0</td>\n",
       "      <td>0.000</td>\n",
       "      <td>192166.0</td>\n",
       "      <td>3044703.0</td>\n",
       "      <td>385499.0</td>\n",
       "      <td>3986472.0</td>\n",
       "      <td>...</td>\n",
       "      <td>0.488884</td>\n",
       "      <td>2.02</td>\n",
       "      <td>0.685168</td>\n",
       "      <td>NaN</td>\n",
       "      <td>0.0</td>\n",
       "      <td>charge</td>\n",
       "      <td>89.940100</td>\n",
       "      <td>0.664452</td>\n",
       "      <td>0.082729</td>\n",
       "      <td>no</td>\n",
       "    </tr>\n",
       "    <tr>\n",
       "      <th>4</th>\n",
       "      <td>Apcnt_1000016</td>\n",
       "      <td>3370.0</td>\n",
       "      <td>0.77270</td>\n",
       "      <td>1.1010</td>\n",
       "      <td>0.0</td>\n",
       "      <td>0.000</td>\n",
       "      <td>1556.0</td>\n",
       "      <td>214728.0</td>\n",
       "      <td>214728.0</td>\n",
       "      <td>1284089.0</td>\n",
       "      <td>...</td>\n",
       "      <td>0.275000</td>\n",
       "      <td>12.12</td>\n",
       "      <td>0.438168</td>\n",
       "      <td>0.0</td>\n",
       "      <td>0.0</td>\n",
       "      <td>charge</td>\n",
       "      <td>97.887502</td>\n",
       "      <td>1.427891</td>\n",
       "      <td>0.045630</td>\n",
       "      <td>no</td>\n",
       "    </tr>\n",
       "  </tbody>\n",
       "</table>\n",
       "<p>5 rows × 52 columns</p>\n",
       "</div>"
      ],
      "text/plain": [
       "    Applicant_ID  form_field1  form_field2  form_field3  form_field4  \\\n",
       "0  Apcnt_1000000       3436.0      0.28505       1.6560          0.0   \n",
       "1  Apcnt_1000004       3456.0      0.67400       0.2342          0.0   \n",
       "2  Apcnt_1000008       3276.0      0.53845       3.1510          0.0   \n",
       "3  Apcnt_1000012       3372.0      0.17005       0.5050          0.0   \n",
       "4  Apcnt_1000016       3370.0      0.77270       1.1010          0.0   \n",
       "\n",
       "   form_field5  form_field6  form_field7  form_field8  form_field9  ...  \\\n",
       "0        0.000          0.0   10689720.0     252072.0    4272776.0  ...   \n",
       "1        0.000          0.0     898979.0     497531.0    9073814.0  ...   \n",
       "2        6.282          NaN     956940.0          NaN     192944.0  ...   \n",
       "3        0.000     192166.0    3044703.0     385499.0    3986472.0  ...   \n",
       "4        0.000       1556.0     214728.0     214728.0    1284089.0  ...   \n",
       "\n",
       "   form_field42  form_field43  form_field44  form_field45  form_field46  \\\n",
       "0      0.392854          2.02      0.711632           0.0           0.0   \n",
       "1      0.314281          8.08      0.183584           NaN           0.0   \n",
       "2      0.162965         18.18      0.791136           0.0           0.0   \n",
       "3      0.488884          2.02      0.685168           NaN           0.0   \n",
       "4      0.275000         12.12      0.438168           0.0           0.0   \n",
       "\n",
       "   form_field47  form_field48  form_field49  form_field50  default_status  \n",
       "0        charge           NaN      1.129518      0.044335              no  \n",
       "1        charge    349.805730      1.620483      0.322436              no  \n",
       "2        charge           NaN      1.513370      0.011640             yes  \n",
       "3        charge     89.940100      0.664452      0.082729              no  \n",
       "4        charge     97.887502      1.427891      0.045630              no  \n",
       "\n",
       "[5 rows x 52 columns]"
      ]
     },
     "execution_count": 4,
     "metadata": {},
     "output_type": "execute_result"
    }
   ],
   "source": [
    "train = pd.read_csv(train_dir)\n",
    "train.head()"
   ]
  },
  {
   "cell_type": "code",
   "execution_count": 5,
   "metadata": {},
   "outputs": [
    {
     "data": {
      "text/plain": [
       "(56000, 52)"
      ]
     },
     "execution_count": 5,
     "metadata": {},
     "output_type": "execute_result"
    }
   ],
   "source": [
    "train.shape"
   ]
  },
  {
   "cell_type": "markdown",
   "metadata": {},
   "source": [
    "## Checking for missing values"
   ]
  },
  {
   "cell_type": "code",
   "execution_count": 6,
   "metadata": {},
   "outputs": [
    {
     "name": "stdout",
     "output_type": "stream",
     "text": [
      "Detecting presence of null values\n",
      "\n",
      "Applicant_ID          0\n",
      "form_field1        2529\n",
      "form_field2        3844\n",
      "form_field3         355\n",
      "form_field4         355\n",
      "form_field5         355\n",
      "form_field6       13360\n",
      "form_field7        5163\n",
      "form_field8       13360\n",
      "form_field9        8008\n",
      "form_field10        355\n",
      "form_field11      31421\n",
      "form_field12       9895\n",
      "form_field13       5889\n",
      "form_field14          0\n",
      "form_field15      22475\n",
      "form_field16      13036\n",
      "form_field17      11151\n",
      "form_field18      10402\n",
      "form_field19          4\n",
      "form_field20        355\n",
      "form_field21      15854\n",
      "form_field22      20400\n",
      "form_field23      28123\n",
      "form_field24      13297\n",
      "form_field25       5450\n",
      "form_field26       7438\n",
      "form_field27       9299\n",
      "form_field28        355\n",
      "form_field29        355\n",
      "form_field30      25509\n",
      "form_field31      39408\n",
      "form_field32       5450\n",
      "form_field33       1256\n",
      "form_field34        355\n",
      "form_field35      23148\n",
      "form_field36       1995\n",
      "form_field37       5450\n",
      "form_field38        355\n",
      "form_field39       4211\n",
      "form_field40      43729\n",
      "form_field41      38229\n",
      "form_field42       1323\n",
      "form_field43        568\n",
      "form_field44       5383\n",
      "form_field45      31317\n",
      "form_field46      15904\n",
      "form_field47          0\n",
      "form_field48      20889\n",
      "form_field49        355\n",
      "form_field50      11056\n",
      "default_status        0\n",
      "dtype: int64\n"
     ]
    }
   ],
   "source": [
    "print('Detecting presence of null values\\n')\n",
    "print(train.isnull().sum())"
   ]
  },
  {
   "cell_type": "code",
   "execution_count": 9,
   "metadata": {},
   "outputs": [
    {
     "data": {
      "image/png": "[encoded data removed]",
      "text/plain": [
       "<Figure size 864x504 with 1 Axes>"
      ]
     },
     "metadata": {
      "needs_background": "light"
     },
     "output_type": "display_data"
    }
   ],
   "source": [
    "plt.figure(figsize=(12, 7))\n",
    "(train.isnull().sum()/len(train)).plot.bar()\n",
    "plt.title(\"Plot of Missing Values\", weight=\"bold\", size=12);"
   ]
  },
  {
   "cell_type": "code",
   "execution_count": 36,
   "metadata": {},
   "outputs": [
    {
     "data": {
      "image/png": "[encoded data removed]",
      "text/plain": [
       "<Figure size 1080x1080 with 1 Axes>"
      ]
     },
     "metadata": {
      "needs_background": "light"
     },
     "output_type": "display_data"
    }
   ],
   "source": [
    "plt.figure(figsize=(15,15))\n",
    "sns.heatmap(train.isnull(), cbar=False)\n",
    "plt.title(\"MISSING VALUES\");"
   ]
  },
  {
   "cell_type": "markdown",
   "metadata": {},
   "source": [
    "## EDA"
   ]
  },
  {
   "cell_type": "code",
   "execution_count": 10,
   "metadata": {},
   "outputs": [
    {
     "data": {
      "text/html": [
       "<div>\n",
       "<style scoped>\n",
       "    .dataframe tbody tr th:only-of-type {\n",
       "        vertical-align: middle;\n",
       "    }\n",
       "\n",
       "    .dataframe tbody tr th {\n",
       "        vertical-align: top;\n",
       "    }\n",
       "\n",
       "    .dataframe thead th {\n",
       "        text-align: right;\n",
       "    }\n",
       "</style>\n",
       "<table border=\"1\" class=\"dataframe\">\n",
       "  <thead>\n",
       "    <tr style=\"text-align: right;\">\n",
       "      <th></th>\n",
       "      <th>form_field1</th>\n",
       "      <th>form_field2</th>\n",
       "      <th>form_field3</th>\n",
       "      <th>form_field4</th>\n",
       "      <th>form_field5</th>\n",
       "      <th>form_field6</th>\n",
       "      <th>form_field7</th>\n",
       "      <th>form_field8</th>\n",
       "      <th>form_field9</th>\n",
       "      <th>form_field10</th>\n",
       "      <th>...</th>\n",
       "      <th>form_field40</th>\n",
       "      <th>form_field41</th>\n",
       "      <th>form_field42</th>\n",
       "      <th>form_field43</th>\n",
       "      <th>form_field44</th>\n",
       "      <th>form_field45</th>\n",
       "      <th>form_field46</th>\n",
       "      <th>form_field48</th>\n",
       "      <th>form_field49</th>\n",
       "      <th>form_field50</th>\n",
       "    </tr>\n",
       "  </thead>\n",
       "  <tbody>\n",
       "    <tr>\n",
       "      <th>count</th>\n",
       "      <td>53471.000000</td>\n",
       "      <td>52156.000000</td>\n",
       "      <td>55645.000000</td>\n",
       "      <td>55645.000000</td>\n",
       "      <td>55645.000000</td>\n",
       "      <td>4.264000e+04</td>\n",
       "      <td>5.083700e+04</td>\n",
       "      <td>4.264000e+04</td>\n",
       "      <td>4.799200e+04</td>\n",
       "      <td>5.564500e+04</td>\n",
       "      <td>...</td>\n",
       "      <td>12271.000000</td>\n",
       "      <td>17771.000000</td>\n",
       "      <td>54677.000000</td>\n",
       "      <td>55432.000000</td>\n",
       "      <td>50617.000000</td>\n",
       "      <td>24683.000000</td>\n",
       "      <td>40096.000000</td>\n",
       "      <td>3.511100e+04</td>\n",
       "      <td>55645.000000</td>\n",
       "      <td>4.494400e+04</td>\n",
       "    </tr>\n",
       "    <tr>\n",
       "      <th>mean</th>\n",
       "      <td>3491.795665</td>\n",
       "      <td>0.550737</td>\n",
       "      <td>1.052225</td>\n",
       "      <td>0.851979</td>\n",
       "      <td>1.956317</td>\n",
       "      <td>6.244479e+05</td>\n",
       "      <td>6.865210e+06</td>\n",
       "      <td>2.626690e+06</td>\n",
       "      <td>1.316002e+07</td>\n",
       "      <td>1.185585e+07</td>\n",
       "      <td>...</td>\n",
       "      <td>147.797977</td>\n",
       "      <td>108.117363</td>\n",
       "      <td>0.368215</td>\n",
       "      <td>6.634511</td>\n",
       "      <td>0.563377</td>\n",
       "      <td>0.072520</td>\n",
       "      <td>0.095371</td>\n",
       "      <td>3.052449e+05</td>\n",
       "      <td>1.049061</td>\n",
       "      <td>6.005862e+05</td>\n",
       "    </tr>\n",
       "    <tr>\n",
       "      <th>std</th>\n",
       "      <td>188.462426</td>\n",
       "      <td>0.820979</td>\n",
       "      <td>2.147768</td>\n",
       "      <td>3.157692</td>\n",
       "      <td>10.512396</td>\n",
       "      <td>1.433422e+06</td>\n",
       "      <td>1.912729e+07</td>\n",
       "      <td>3.927355e+06</td>\n",
       "      <td>1.977963e+07</td>\n",
       "      <td>2.669459e+07</td>\n",
       "      <td>...</td>\n",
       "      <td>45.085889</td>\n",
       "      <td>36.765769</td>\n",
       "      <td>0.412858</td>\n",
       "      <td>6.378946</td>\n",
       "      <td>0.196973</td>\n",
       "      <td>0.291146</td>\n",
       "      <td>0.335210</td>\n",
       "      <td>1.647757e+06</td>\n",
       "      <td>1.806160</td>\n",
       "      <td>5.842405e+06</td>\n",
       "    </tr>\n",
       "    <tr>\n",
       "      <th>min</th>\n",
       "      <td>2990.000000</td>\n",
       "      <td>0.000000</td>\n",
       "      <td>0.000000</td>\n",
       "      <td>0.000000</td>\n",
       "      <td>0.000000</td>\n",
       "      <td>0.000000e+00</td>\n",
       "      <td>0.000000e+00</td>\n",
       "      <td>0.000000e+00</td>\n",
       "      <td>0.000000e+00</td>\n",
       "      <td>0.000000e+00</td>\n",
       "      <td>...</td>\n",
       "      <td>0.021000</td>\n",
       "      <td>0.000000</td>\n",
       "      <td>0.000000</td>\n",
       "      <td>0.000000</td>\n",
       "      <td>0.048528</td>\n",
       "      <td>0.000000</td>\n",
       "      <td>0.000000</td>\n",
       "      <td>0.000000e+00</td>\n",
       "      <td>0.000000</td>\n",
       "      <td>0.000000e+00</td>\n",
       "    </tr>\n",
       "    <tr>\n",
       "      <th>25%</th>\n",
       "      <td>3358.000000</td>\n",
       "      <td>0.070788</td>\n",
       "      <td>0.000000</td>\n",
       "      <td>0.000000</td>\n",
       "      <td>0.000000</td>\n",
       "      <td>1.400400e+04</td>\n",
       "      <td>6.869740e+05</td>\n",
       "      <td>1.929440e+05</td>\n",
       "      <td>1.368502e+06</td>\n",
       "      <td>4.500730e+05</td>\n",
       "      <td>...</td>\n",
       "      <td>136.191750</td>\n",
       "      <td>87.055500</td>\n",
       "      <td>0.000000</td>\n",
       "      <td>2.020000</td>\n",
       "      <td>0.411672</td>\n",
       "      <td>0.000000</td>\n",
       "      <td>0.000000</td>\n",
       "      <td>7.710079e+01</td>\n",
       "      <td>0.000000</td>\n",
       "      <td>4.560141e-02</td>\n",
       "    </tr>\n",
       "    <tr>\n",
       "      <th>50%</th>\n",
       "      <td>3484.000000</td>\n",
       "      <td>0.267575</td>\n",
       "      <td>0.062000</td>\n",
       "      <td>0.000000</td>\n",
       "      <td>0.000000</td>\n",
       "      <td>1.155330e+05</td>\n",
       "      <td>2.704328e+06</td>\n",
       "      <td>9.639420e+05</td>\n",
       "      <td>5.506295e+06</td>\n",
       "      <td>3.707559e+06</td>\n",
       "      <td>...</td>\n",
       "      <td>150.000000</td>\n",
       "      <td>118.441500</td>\n",
       "      <td>0.220000</td>\n",
       "      <td>5.050000</td>\n",
       "      <td>0.588648</td>\n",
       "      <td>0.000000</td>\n",
       "      <td>0.000000</td>\n",
       "      <td>3.181243e+02</td>\n",
       "      <td>0.000000</td>\n",
       "      <td>1.703996e-01</td>\n",
       "    </tr>\n",
       "    <tr>\n",
       "      <th>75%</th>\n",
       "      <td>3620.000000</td>\n",
       "      <td>0.719512</td>\n",
       "      <td>1.282000</td>\n",
       "      <td>0.000000</td>\n",
       "      <td>0.000000</td>\n",
       "      <td>5.259280e+05</td>\n",
       "      <td>6.993831e+06</td>\n",
       "      <td>3.751516e+06</td>\n",
       "      <td>1.694552e+07</td>\n",
       "      <td>1.326101e+07</td>\n",
       "      <td>...</td>\n",
       "      <td>167.754000</td>\n",
       "      <td>137.496750</td>\n",
       "      <td>0.628573</td>\n",
       "      <td>10.100000</td>\n",
       "      <td>0.753840</td>\n",
       "      <td>0.000000</td>\n",
       "      <td>0.000000</td>\n",
       "      <td>1.153022e+03</td>\n",
       "      <td>1.181754</td>\n",
       "      <td>4.993370e-01</td>\n",
       "    </tr>\n",
       "    <tr>\n",
       "      <th>max</th>\n",
       "      <td>3900.000000</td>\n",
       "      <td>18.015050</td>\n",
       "      <td>57.371600</td>\n",
       "      <td>91.672200</td>\n",
       "      <td>407.748600</td>\n",
       "      <td>5.313546e+07</td>\n",
       "      <td>2.158794e+09</td>\n",
       "      <td>1.037397e+08</td>\n",
       "      <td>3.200533e+08</td>\n",
       "      <td>2.191361e+09</td>\n",
       "      <td>...</td>\n",
       "      <td>645.450000</td>\n",
       "      <td>255.000000</td>\n",
       "      <td>2.200000</td>\n",
       "      <td>91.910000</td>\n",
       "      <td>0.800000</td>\n",
       "      <td>5.000000</td>\n",
       "      <td>5.000000</td>\n",
       "      <td>5.321014e+07</td>\n",
       "      <td>28.000000</td>\n",
       "      <td>2.307571e+08</td>\n",
       "    </tr>\n",
       "  </tbody>\n",
       "</table>\n",
       "<p>8 rows × 49 columns</p>\n",
       "</div>"
      ],
      "text/plain": [
       "        form_field1   form_field2   form_field3   form_field4   form_field5  \\\n",
       "count  53471.000000  52156.000000  55645.000000  55645.000000  55645.000000   \n",
       "mean    3491.795665      0.550737      1.052225      0.851979      1.956317   \n",
       "std      188.462426      0.820979      2.147768      3.157692     10.512396   \n",
       "min     2990.000000      0.000000      0.000000      0.000000      0.000000   \n",
       "25%     3358.000000      0.070788      0.000000      0.000000      0.000000   \n",
       "50%     3484.000000      0.267575      0.062000      0.000000      0.000000   \n",
       "75%     3620.000000      0.719512      1.282000      0.000000      0.000000   \n",
       "max     3900.000000     18.015050     57.371600     91.672200    407.748600   \n",
       "\n",
       "        form_field6   form_field7   form_field8   form_field9  form_field10  \\\n",
       "count  4.264000e+04  5.083700e+04  4.264000e+04  4.799200e+04  5.564500e+04   \n",
       "mean   6.244479e+05  6.865210e+06  2.626690e+06  1.316002e+07  1.185585e+07   \n",
       "std    1.433422e+06  1.912729e+07  3.927355e+06  1.977963e+07  2.669459e+07   \n",
       "min    0.000000e+00  0.000000e+00  0.000000e+00  0.000000e+00  0.000000e+00   \n",
       "25%    1.400400e+04  6.869740e+05  1.929440e+05  1.368502e+06  4.500730e+05   \n",
       "50%    1.155330e+05  2.704328e+06  9.639420e+05  5.506295e+06  3.707559e+06   \n",
       "75%    5.259280e+05  6.993831e+06  3.751516e+06  1.694552e+07  1.326101e+07   \n",
       "max    5.313546e+07  2.158794e+09  1.037397e+08  3.200533e+08  2.191361e+09   \n",
       "\n",
       "       ...  form_field40  form_field41  form_field42  form_field43  \\\n",
       "count  ...  12271.000000  17771.000000  54677.000000  55432.000000   \n",
       "mean   ...    147.797977    108.117363      0.368215      6.634511   \n",
       "std    ...     45.085889     36.765769      0.412858      6.378946   \n",
       "min    ...      0.021000      0.000000      0.000000      0.000000   \n",
       "25%    ...    136.191750     87.055500      0.000000      2.020000   \n",
       "50%    ...    150.000000    118.441500      0.220000      5.050000   \n",
       "75%    ...    167.754000    137.496750      0.628573     10.100000   \n",
       "max    ...    645.450000    255.000000      2.200000     91.910000   \n",
       "\n",
       "       form_field44  form_field45  form_field46  form_field48  form_field49  \\\n",
       "count  50617.000000  24683.000000  40096.000000  3.511100e+04  55645.000000   \n",
       "mean       0.563377      0.072520      0.095371  3.052449e+05      1.049061   \n",
       "std        0.196973      0.291146      0.335210  1.647757e+06      1.806160   \n",
       "min        0.048528      0.000000      0.000000  0.000000e+00      0.000000   \n",
       "25%        0.411672      0.000000      0.000000  7.710079e+01      0.000000   \n",
       "50%        0.588648      0.000000      0.000000  3.181243e+02      0.000000   \n",
       "75%        0.753840      0.000000      0.000000  1.153022e+03      1.181754   \n",
       "max        0.800000      5.000000      5.000000  5.321014e+07     28.000000   \n",
       "\n",
       "       form_field50  \n",
       "count  4.494400e+04  \n",
       "mean   6.005862e+05  \n",
       "std    5.842405e+06  \n",
       "min    0.000000e+00  \n",
       "25%    4.560141e-02  \n",
       "50%    1.703996e-01  \n",
       "75%    4.993370e-01  \n",
       "max    2.307571e+08  \n",
       "\n",
       "[8 rows x 49 columns]"
      ]
     },
     "execution_count": 10,
     "metadata": {},
     "output_type": "execute_result"
    }
   ],
   "source": [
    "train.describe()"
   ]
  },
  {
   "cell_type": "code",
   "execution_count": 16,
   "metadata": {},
   "outputs": [
    {
     "name": "stdout",
     "output_type": "stream",
     "text": [
      "<class 'pandas.core.frame.DataFrame'>\n",
      "RangeIndex: 56000 entries, 0 to 55999\n",
      "Data columns (total 52 columns):\n",
      " #   Column          Non-Null Count  Dtype  \n",
      "---  ------          --------------  -----  \n",
      " 0   Applicant_ID    56000 non-null  object \n",
      " 1   form_field1     53471 non-null  float64\n",
      " 2   form_field2     52156 non-null  float64\n",
      " 3   form_field3     55645 non-null  float64\n",
      " 4   form_field4     55645 non-null  float64\n",
      " 5   form_field5     55645 non-null  float64\n",
      " 6   form_field6     42640 non-null  float64\n",
      " 7   form_field7     50837 non-null  float64\n",
      " 8   form_field8     42640 non-null  float64\n",
      " 9   form_field9     47992 non-null  float64\n",
      " 10  form_field10    55645 non-null  float64\n",
      " 11  form_field11    24579 non-null  float64\n",
      " 12  form_field12    46105 non-null  float64\n",
      " 13  form_field13    50111 non-null  float64\n",
      " 14  form_field14    56000 non-null  int64  \n",
      " 15  form_field15    33525 non-null  float64\n",
      " 16  form_field16    42964 non-null  float64\n",
      " 17  form_field17    44849 non-null  float64\n",
      " 18  form_field18    45598 non-null  float64\n",
      " 19  form_field19    55996 non-null  float64\n",
      " 20  form_field20    55645 non-null  float64\n",
      " 21  form_field21    40146 non-null  float64\n",
      " 22  form_field22    35600 non-null  float64\n",
      " 23  form_field23    27877 non-null  float64\n",
      " 24  form_field24    42703 non-null  float64\n",
      " 25  form_field25    50550 non-null  float64\n",
      " 26  form_field26    48562 non-null  float64\n",
      " 27  form_field27    46701 non-null  float64\n",
      " 28  form_field28    55645 non-null  float64\n",
      " 29  form_field29    55645 non-null  float64\n",
      " 30  form_field30    30491 non-null  float64\n",
      " 31  form_field31    16592 non-null  float64\n",
      " 32  form_field32    50550 non-null  float64\n",
      " 33  form_field33    54744 non-null  float64\n",
      " 34  form_field34    55645 non-null  float64\n",
      " 35  form_field35    32852 non-null  float64\n",
      " 36  form_field36    54005 non-null  float64\n",
      " 37  form_field37    50550 non-null  float64\n",
      " 38  form_field38    55645 non-null  float64\n",
      " 39  form_field39    51789 non-null  float64\n",
      " 40  form_field40    12271 non-null  float64\n",
      " 41  form_field41    17771 non-null  float64\n",
      " 42  form_field42    54677 non-null  float64\n",
      " 43  form_field43    55432 non-null  float64\n",
      " 44  form_field44    50617 non-null  float64\n",
      " 45  form_field45    24683 non-null  float64\n",
      " 46  form_field46    40096 non-null  float64\n",
      " 47  form_field47    56000 non-null  object \n",
      " 48  form_field48    35111 non-null  float64\n",
      " 49  form_field49    55645 non-null  float64\n",
      " 50  form_field50    44944 non-null  float64\n",
      " 51  default_status  56000 non-null  object \n",
      "dtypes: float64(48), int64(1), object(3)\n",
      "memory usage: 22.2+ MB\n"
     ]
    }
   ],
   "source": [
    "train.info()"
   ]
  },
  {
   "cell_type": "markdown",
   "metadata": {},
   "source": [
    "Because pandas-profiling can not handle the all the columns at ones they where broken down into halves"
   ]
  },
  {
   "cell_type": "code",
   "execution_count": 9,
   "metadata": {},
   "outputs": [],
   "source": [
    "datasummary1 = ProfileReport(train.iloc[:, :25])"
   ]
  },
  {
   "cell_type": "code",
   "execution_count": 10,
   "metadata": {},
   "outputs": [
    {
     "data": {
      "application/vnd.jupyter.widget-view+json": {
       "model_id": "36c39fdbf86f4c6d8e6833b06e460495",
       "version_major": 2,
       "version_minor": 0
      },
      "text/plain": [
       "Summarize dataset:   0%|          | 0/5 [00:00<?, ?it/s]"
      ]
     },
     "metadata": {},
     "output_type": "display_data"
    },
    {
     "data": {
      "application/vnd.jupyter.widget-view+json": {
       "model_id": "7c913f2ad9e748ef90393509a5c5fa16",
       "version_major": 2,
       "version_minor": 0
      },
      "text/plain": [
       "Generate report structure:   0%|          | 0/1 [00:00<?, ?it/s]"
      ]
     },
     "metadata": {},
     "output_type": "display_data"
    },
    {
     "data": {
      "application/vnd.jupyter.widget-view+json": {
       "model_id": "f6c79ebdd594486095c305757e21f317",
       "version_major": 2,
       "version_minor": 0
      },
      "text/plain": [
       "Render HTML:   0%|          | 0/1 [00:00<?, ?it/s]"
      ]
     },
     "metadata": {},
     "output_type": "display_data"
    },
    {
     "data": {
      "application/vnd.jupyter.widget-view+json": {
       "model_id": "8888b5f02e104a2b869de254e0e0719a",
       "version_major": 2,
       "version_minor": 0
      },
      "text/plain": [
       "Export report to file:   0%|          | 0/1 [00:00<?, ?it/s]"
      ]
     },
     "metadata": {},
     "output_type": "display_data"
    }
   ],
   "source": [
    "datasummary1.to_file(\"datasummary1.html\")"
   ]
  },
  {
   "cell_type": "code",
   "execution_count": 13,
   "metadata": {},
   "outputs": [],
   "source": [
    "datasummary2 = ProfileReport(train.iloc[:, 25:-2])"
   ]
  },
  {
   "cell_type": "code",
   "execution_count": 14,
   "metadata": {},
   "outputs": [
    {
     "data": {
      "application/vnd.jupyter.widget-view+json": {
       "model_id": "7e374c3fb0c94b1bb7773c0d82fcf0ba",
       "version_major": 2,
       "version_minor": 0
      },
      "text/plain": [
       "Summarize dataset:   0%|          | 0/5 [00:00<?, ?it/s]"
      ]
     },
     "metadata": {},
     "output_type": "display_data"
    },
    {
     "data": {
      "application/vnd.jupyter.widget-view+json": {
       "model_id": "60bd838017694ba585210268f0ba7d02",
       "version_major": 2,
       "version_minor": 0
      },
      "text/plain": [
       "Generate report structure:   0%|          | 0/1 [00:00<?, ?it/s]"
      ]
     },
     "metadata": {},
     "output_type": "display_data"
    },
    {
     "data": {
      "application/vnd.jupyter.widget-view+json": {
       "model_id": "640e940365e74087a1653539396f7d64",
       "version_major": 2,
       "version_minor": 0
      },
      "text/plain": [
       "Render HTML:   0%|          | 0/1 [00:00<?, ?it/s]"
      ]
     },
     "metadata": {},
     "output_type": "display_data"
    },
    {
     "data": {
      "application/vnd.jupyter.widget-view+json": {
       "model_id": "786f0720a3984ec7bc7be2db27f01e05",
       "version_major": 2,
       "version_minor": 0
      },
      "text/plain": [
       "Export report to file:   0%|          | 0/1 [00:00<?, ?it/s]"
      ]
     },
     "metadata": {},
     "output_type": "display_data"
    }
   ],
   "source": [
    "datasummary2.to_file(\"datasummary2.html\")"
   ]
  },
  {
   "cell_type": "code",
   "execution_count": 15,
   "metadata": {},
   "outputs": [
    {
     "data": {
      "text/plain": [
       "Index(['Applicant_ID', 'form_field1', 'form_field2', 'form_field3',\n",
       "       'form_field4', 'form_field5', 'form_field6', 'form_field7',\n",
       "       'form_field8', 'form_field9', 'form_field10', 'form_field11',\n",
       "       'form_field12', 'form_field13', 'form_field14', 'form_field15',\n",
       "       'form_field16', 'form_field17', 'form_field18', 'form_field19',\n",
       "       'form_field20', 'form_field21', 'form_field22', 'form_field23',\n",
       "       'form_field24', 'form_field25', 'form_field26', 'form_field27',\n",
       "       'form_field28', 'form_field29', 'form_field30', 'form_field31',\n",
       "       'form_field32', 'form_field33', 'form_field34', 'form_field35',\n",
       "       'form_field36', 'form_field37', 'form_field38', 'form_field39',\n",
       "       'form_field40', 'form_field41', 'form_field42', 'form_field43',\n",
       "       'form_field44', 'form_field45', 'form_field46', 'form_field47',\n",
       "       'form_field48', 'form_field49', 'form_field50', 'default_status'],\n",
       "      dtype='object')"
      ]
     },
     "execution_count": 15,
     "metadata": {},
     "output_type": "execute_result"
    }
   ],
   "source": [
    "train.columns"
   ]
  },
  {
   "cell_type": "code",
   "execution_count": 35,
   "metadata": {
    "scrolled": true
   },
   "outputs": [
    {
     "name": "stdout",
     "output_type": "stream",
     "text": [
      "            Checking if the class is balance/n\n"
     ]
    },
    {
     "data": {
      "image/png": "[encoded data removed]",
      "text/plain": [
       "<Figure size 432x288 with 1 Axes>"
      ]
     },
     "metadata": {
      "needs_background": "light"
     },
     "output_type": "display_data"
    }
   ],
   "source": [
    "print('            Checking if the class is balance/n')\n",
    "sns.countplot(x = train.default_status);"
   ]
  },
  {
   "cell_type": "code",
   "execution_count": 8,
   "metadata": {},
   "outputs": [
    {
     "name": "stdout",
     "output_type": "stream",
     "text": [
      "no     42285\n",
      "yes    13715\n",
      "Name: default_status, dtype: int64 \n",
      "\n",
      "% of count non-fraud 0: 75.50892857142857\n",
      "--------------------------------------------\n",
      "% of count non-fraud 1: 24.491071428571427\n"
     ]
    }
   ],
   "source": [
    "count = train['default_status'].value_counts()\n",
    "print(count, '\\n')\n",
    "print(f'% of count non-fraud 0: {(count.iloc[0]/len(train))*100}')\n",
    "print('-'*44)\n",
    "print(f'% of count non-fraud 1: {(count.iloc[1]/len(train))*100}')"
   ]
  },
  {
   "cell_type": "code",
   "execution_count": 20,
   "metadata": {},
   "outputs": [
    {
     "data": {
      "image/png": "[encoded data removed]",
      "text/plain": [
       "<Figure size 1080x1080 with 2 Axes>"
      ]
     },
     "metadata": {
      "needs_background": "light"
     },
     "output_type": "display_data"
    }
   ],
   "source": [
    "numerical_data = train.select_dtypes(exclude=\"object\")\n",
    "corr = numerical_data.corr()\n",
    "mask = np.triu(np.ones_like(corr, dtype=bool))\n",
    "plt.figure(figsize=(15, 15))\n",
    "sns.heatmap(corr, mask=mask, square=True)\n",
    "plt.title(\"CORRELATION MATRIX\", size=20, weight=\"bold\")\n",
    "plt.xlabel(\"FEATURES\")\n",
    "plt.ylabel(\"FEATURES\");"
   ]
  },
  {
   "cell_type": "code",
   "execution_count": 51,
   "metadata": {},
   "outputs": [],
   "source": [
    "def corr_concern(x):\n",
    "    if x >=0.6:\n",
    "        return True\n",
    "    elif x<=-0.6:\n",
    "        return True\n",
    "    else:\n",
    "        return x\n",
    "    \n",
    "pd.set_option(\"display.max_columns\", 50)\n",
    "\n",
    "corr.applymap(corr_concern).to_excel(\"data/corr.xlsx\", float_format=\"%.2f\")"
   ]
  },
  {
   "cell_type": "code",
   "execution_count": 34,
   "metadata": {},
   "outputs": [
    {
     "name": "stdout",
     "output_type": "stream",
     "text": [
      "form_field1       0.120458\n",
      "form_field2       4.299532\n",
      "form_field3       4.233351\n",
      "form_field4       5.427310\n",
      "form_field5      10.465192\n",
      "form_field6       6.203867\n",
      "form_field7      36.556045\n",
      "form_field8       3.935070\n",
      "form_field9       3.503331\n",
      "form_field10     18.007423\n",
      "form_field11      9.633062\n",
      "form_field12      4.734462\n",
      "form_field13     53.667658\n",
      "form_field14    118.547478\n",
      "form_field15      5.533132\n",
      "form_field16      3.999875\n",
      "form_field17      5.044450\n",
      "form_field18      4.966005\n",
      "form_field19      3.327070\n",
      "form_field20      3.174999\n",
      "form_field21      1.714100\n",
      "form_field22      0.799056\n",
      "form_field23      0.901040\n",
      "form_field24     30.440138\n",
      "form_field25      1.711413\n",
      "form_field26      1.471489\n",
      "form_field27      1.452973\n",
      "form_field28      0.993735\n",
      "form_field29      0.933382\n",
      "form_field30      0.038387\n",
      "form_field31      0.738210\n",
      "form_field32      2.447196\n",
      "form_field33      1.565371\n",
      "form_field34      6.205108\n",
      "form_field35      4.167426\n",
      "form_field36      2.634626\n",
      "form_field37      1.949271\n",
      "form_field38      2.722392\n",
      "form_field39     11.814973\n",
      "form_field40      0.150334\n",
      "form_field41     -0.972525\n",
      "form_field42      1.183635\n",
      "form_field43      1.638080\n",
      "form_field44     -0.438634\n",
      "form_field45      4.737307\n",
      "form_field46      4.031525\n",
      "form_field48     10.552602\n",
      "form_field49      2.623440\n",
      "form_field50     15.426124\n",
      "dtype: float64\n"
     ]
    }
   ],
   "source": [
    "numerical_data.skew()"
   ]
  },
  {
   "cell_type": "markdown",
   "metadata": {},
   "source": [
    "## Generating the target or output and onehotencoding the output"
   ]
  },
  {
   "cell_type": "code",
   "execution_count": 54,
   "metadata": {},
   "outputs": [
    {
     "data": {
      "text/plain": [
       "array(['no', 'yes'], dtype=object)"
      ]
     },
     "execution_count": 54,
     "metadata": {},
     "output_type": "execute_result"
    }
   ],
   "source": [
    "train[\"default_status\"].unique()"
   ]
  },
  {
   "cell_type": "code",
   "execution_count": 77,
   "metadata": {},
   "outputs": [],
   "source": [
    "# Creating a duplicate of the raw data for the purpose of analysis\n",
    "train_copy = train.copy()"
   ]
  },
  {
   "cell_type": "markdown",
   "metadata": {},
   "source": [
    "\n",
    "* Onehotencoding categorical data"
   ]
  },
  {
   "cell_type": "code",
   "execution_count": 78,
   "metadata": {},
   "outputs": [
    {
     "data": {
      "text/plain": [
       "array([0, 1], dtype=int64)"
      ]
     },
     "execution_count": 78,
     "metadata": {},
     "output_type": "execute_result"
    }
   ],
   "source": [
    "mapping = {\"no\": 0, \"yes\": 1}\n",
    "train_copy[\"default_status\"] = train_copy[\"default_status\"].map(mapping)\n",
    "train_copy[\"default_status\"].unique()"
   ]
  },
  {
   "cell_type": "code",
   "execution_count": 40,
   "metadata": {},
   "outputs": [
    {
     "data": {
      "text/plain": [
       "array(['charge', 'lending'], dtype=object)"
      ]
     },
     "execution_count": 40,
     "metadata": {},
     "output_type": "execute_result"
    }
   ],
   "source": [
    "train[\"form_field47\"].unique()"
   ]
  },
  {
   "cell_type": "code",
   "execution_count": 79,
   "metadata": {},
   "outputs": [
    {
     "data": {
      "text/plain": [
       "array([1, 0], dtype=int64)"
      ]
     },
     "execution_count": 79,
     "metadata": {},
     "output_type": "execute_result"
    }
   ],
   "source": [
    "mapping = {\"charge\": 1, \"lending\":0}\n",
    "train_copy[\"form_field47\"] = train_copy['form_field47'].map(mapping)\n",
    "train_copy[\"form_field47\"].unique()"
   ]
  },
  {
   "cell_type": "markdown",
   "metadata": {},
   "source": [
    "* High cardinality and correlation"
   ]
  },
  {
   "cell_type": "code",
   "execution_count": 80,
   "metadata": {},
   "outputs": [],
   "source": [
    "# dropping column with high cardinality\n",
    "train_copy.drop(columns=[\"Applicant_ID\"], inplace = True)\n",
    "# dropping columns that are highly correlated\n",
    "columns = [\"form_field1\", \"form_field2\", \"form_field3\", \"form_field4\", \"form_field7\", \"form_field8\", \"form_field9\", \"form_field15\", \"form_field16\", \"form_field19\", \"form_field24\", \"form_field29\", \"form_field30\", \"form_field31\", \"form_field33\", \"form_field34\", \"form_field35\", \"form_field36\", \"form_field38\", \"form_field40\", \"form_field41\", \"form_field43\", \"form_field44\", \"form_field45\", \"form_field47\", \"form_field48\", \"form_field50\", \"default_status\"]\n",
    "train_copy = train_copy[columns]"
   ]
  },
  {
   "cell_type": "markdown",
   "metadata": {},
   "source": [
    "* Missing values"
   ]
  },
  {
   "cell_type": "code",
   "execution_count": 81,
   "metadata": {},
   "outputs": [],
   "source": [
    "# Calculating the percentage of missing values and removing any missing above 40%\n",
    "missing_val_per = train_copy.isnull().sum()/len(train_copy)*100 < 40\n",
    "train_copy = train_copy.iloc[:, missing_val_per.values]"
   ]
  },
  {
   "cell_type": "code",
   "execution_count": 96,
   "metadata": {},
   "outputs": [],
   "source": [
    "# Imputing the mean value for missing values where the default status is no\n",
    "train_copy_0 = train_copy[train_copy[\"default_status\"]==0]\n",
    "impute_missing = SimpleImputer()\n",
    "train_copy_0 = impute_missing.fit_transform(train_copy_0)\n",
    "train_copy_0 = pd.DataFrame(train_copy_0, columns=train_copy.columns)"
   ]
  },
  {
   "cell_type": "code",
   "execution_count": 97,
   "metadata": {},
   "outputs": [],
   "source": [
    "# Imputing the mean value for missing values where the default status is yes\n",
    "train_copy_1 = train_copy[train_copy[\"default_status\"]==1]\n",
    "impute_missing = SimpleImputer()\n",
    "train_copy_1 = impute_missing.fit_transform(train_copy_1)\n",
    "train_copy_1 = pd.DataFrame(train_copy_1, columns=train_copy.columns)"
   ]
  },
  {
   "cell_type": "code",
   "execution_count": 99,
   "metadata": {},
   "outputs": [],
   "source": [
    "# concatenating the two data above\n",
    "train_copy = pd.concat([train_copy_0, train_copy_1], 0)"
   ]
  },
  {
   "cell_type": "code",
   "execution_count": 106,
   "metadata": {},
   "outputs": [],
   "source": [
    "X, y = train_copy.drop(columns=\"default_status\"), train_copy[\"default_status\"]\n",
    "over_sampling = SMOTE(random_state=234, k_neighbors=13)\n",
    "X_oversampling, y_oversampling = over_sampling.fit_resample(X, y)\n",
    "train_copy_res = pd.concat([X_oversampling, y_oversampling], axis=1)"
   ]
  },
  {
   "cell_type": "markdown",
   "metadata": {},
   "source": [
    "* Spitting the train data"
   ]
  },
  {
   "cell_type": "code",
   "execution_count": 110,
   "metadata": {},
   "outputs": [],
   "source": [
    "X, y = train_copy_res.drop(columns=\"default_status\"), train_copy_res[\"default_status\"]\n",
    "sss = StratifiedShuffleSplit(test_size=0.2, random_state=234)\n",
    "for train_index, test_index in sss.split(X, y):\n",
    "    X_train, X_test = X.loc[train_index], X.loc[test_index]\n",
    "    y_train, y_test = y[train_index], y[test_index]"
   ]
  },
  {
   "cell_type": "markdown",
   "metadata": {},
   "source": [
    "* Building pipeline for training the data"
   ]
  },
  {
   "cell_type": "code",
   "execution_count": 111,
   "metadata": {},
   "outputs": [],
   "source": [
    "scaler = StandardScaler()"
   ]
  },
  {
   "cell_type": "code",
   "execution_count": 132,
   "metadata": {},
   "outputs": [],
   "source": [
    "rf = RandomForestClassifier(random_state= 1)\n",
    "pipe_rf = make_pipeline(scaler, rf)\n",
    "pipe_rf.fit(X_train, y_train)\n",
    "y_pred_rf = pipe_rf.predict(X_test)"
   ]
  },
  {
   "cell_type": "code",
   "execution_count": 134,
   "metadata": {},
   "outputs": [],
   "source": [
    "with open(\"model/model_rf.pk\", \"wb\") as file:\n",
    "    pk.dump(pipe_rf, file)"
   ]
  },
  {
   "cell_type": "code",
   "execution_count": 114,
   "metadata": {},
   "outputs": [
    {
     "name": "stdout",
     "output_type": "stream",
     "text": [
      "              precision    recall  f1-score   support\n",
      "\n",
      "         0.0       0.92      0.94      0.93      8457\n",
      "         1.0       0.94      0.92      0.93      8457\n",
      "\n",
      "    accuracy                           0.93     16914\n",
      "   macro avg       0.93      0.93      0.93     16914\n",
      "weighted avg       0.93      0.93      0.93     16914\n",
      "\n"
     ]
    }
   ],
   "source": [
    "print(classification_report(y_test, y_pred_rf))"
   ]
  },
  {
   "cell_type": "code",
   "execution_count": 117,
   "metadata": {},
   "outputs": [
    {
     "data": {
      "image/png": "[encoded data removed]",
      "text/plain": [
       "<Figure size 432x288 with 2 Axes>"
      ]
     },
     "metadata": {
      "needs_background": "light"
     },
     "output_type": "display_data"
    }
   ],
   "source": [
    "ConfusionMatrixDisplay.from_predictions(y_true=y_test, y_pred=y_pred_rf, normalize=\"true\", labels=[0,1], display_labels=[\"no\", \"yes\"]);"
   ]
  },
  {
   "cell_type": "code",
   "execution_count": 142,
   "metadata": {},
   "outputs": [
    {
     "data": {
      "image/png": "[encoded data removed]",
      "text/plain": [
       "<Figure size 360x360 with 1 Axes>"
      ]
     },
     "metadata": {
      "needs_background": "light"
     },
     "output_type": "display_data"
    }
   ],
   "source": [
    "fig, ax = plt.subplots(figsize=(5,5))\n",
    "RocCurveDisplay.from_predictions(y_true=y_test, y_pred=y_pred_rf, name=\"ROC PIPE XGB\", ax=ax)\n",
    "ax.set_title(\"ROC CURVE RF\");\n",
    "plt.savefig(\"report/roc_curve_rf.jpg\")"
   ]
  },
  {
   "cell_type": "code",
   "execution_count": 122,
   "metadata": {},
   "outputs": [],
   "source": [
    "xgb = XGBClassifier()\n",
    "pipe_xgb = make_pipeline(scaler, xgb)\n",
    "pipe_xgb.fit(X_train, y_train)\n",
    "y_pred_xgb = pipe_xgb.predict(X_test)"
   ]
  },
  {
   "cell_type": "code",
   "execution_count": 135,
   "metadata": {},
   "outputs": [],
   "source": [
    "with open(\"model/model_xgb.pk\", \"wb\") as file:\n",
    "    pk.dump(pipe_xgb, file)"
   ]
  },
  {
   "cell_type": "code",
   "execution_count": 123,
   "metadata": {},
   "outputs": [
    {
     "name": "stdout",
     "output_type": "stream",
     "text": [
      "              precision    recall  f1-score   support\n",
      "\n",
      "         0.0       0.91      0.96      0.93      8457\n",
      "         1.0       0.95      0.91      0.93      8457\n",
      "\n",
      "    accuracy                           0.93     16914\n",
      "   macro avg       0.93      0.93      0.93     16914\n",
      "weighted avg       0.93      0.93      0.93     16914\n",
      "\n"
     ]
    }
   ],
   "source": [
    "print(classification_report(y_test, y_pred_xgb))"
   ]
  },
  {
   "cell_type": "code",
   "execution_count": 143,
   "metadata": {},
   "outputs": [
    {
     "data": {
      "image/png": "[encoded data removed]",
      "text/plain": [
       "<Figure size 360x360 with 2 Axes>"
      ]
     },
     "metadata": {
      "needs_background": "light"
     },
     "output_type": "display_data"
    }
   ],
   "source": [
    "fig, ax = plt.subplots(figsize=(5,5))\n",
    "ConfusionMatrixDisplay.from_predictions(y_true=y_test, y_pred=y_pred_xgb, normalize=\"true\", labels=[0,1], display_labels=[\"no\", \"yes\"], ax=ax)\n",
    "ax.set_title(\"CONFUSION MATRIX XGB\");\n",
    "plt.savefig(\"report/confusion_matrix_xgb.jpg\")"
   ]
  },
  {
   "cell_type": "code",
   "execution_count": 144,
   "metadata": {},
   "outputs": [
    {
     "data": {
      "image/png": "[encoded data removed]",
      "text/plain": [
       "<Figure size 360x360 with 1 Axes>"
      ]
     },
     "metadata": {
      "needs_background": "light"
     },
     "output_type": "display_data"
    }
   ],
   "source": [
    "fig, ax = plt.subplots(figsize=(5,5))\n",
    "RocCurveDisplay.from_predictions(y_true=y_test, y_pred=y_pred_xgb, name=\"ROC PIPE XGB\", ax=ax)\n",
    "ax.set_title(\"ROC CURVE XGB\");\n",
    "plt.savefig(\"report/roc_curve_xgb.jpg\")"
   ]
  },
  {
   "cell_type": "code",
   "execution_count": 127,
   "metadata": {},
   "outputs": [],
   "source": [
    "lgb = LGBMClassifier()\n",
    "pipe_lgb = make_pipeline(scaler, lgb)\n",
    "pipe_lgb.fit(X_train, y_train)\n",
    "y_pred_lgb = pipe_lgb.predict(X_test)"
   ]
  },
  {
   "cell_type": "code",
   "execution_count": 136,
   "metadata": {},
   "outputs": [],
   "source": [
    "with open(\"model/model_lgb.pk\", \"wb\") as file:\n",
    "    pk.dump(pipe_lgb, file)"
   ]
  },
  {
   "cell_type": "code",
   "execution_count": 128,
   "metadata": {},
   "outputs": [
    {
     "name": "stdout",
     "output_type": "stream",
     "text": [
      "              precision    recall  f1-score   support\n",
      "\n",
      "         0.0       0.91      0.96      0.93      8457\n",
      "         1.0       0.96      0.90      0.93      8457\n",
      "\n",
      "    accuracy                           0.93     16914\n",
      "   macro avg       0.93      0.93      0.93     16914\n",
      "weighted avg       0.93      0.93      0.93     16914\n",
      "\n"
     ]
    }
   ],
   "source": [
    "print(classification_report(y_test, y_pred_lgb))"
   ]
  },
  {
   "cell_type": "code",
   "execution_count": 145,
   "metadata": {},
   "outputs": [
    {
     "data": {
      "image/png": "[encoded data removed]",
      "text/plain": [
       "<Figure size 360x360 with 2 Axes>"
      ]
     },
     "metadata": {
      "needs_background": "light"
     },
     "output_type": "display_data"
    }
   ],
   "source": [
    "fig, ax = plt.subplots(figsize=(5,5))\n",
    "ConfusionMatrixDisplay.from_predictions(y_true=y_test, y_pred=y_pred_lgb, normalize=\"true\", labels=[0,1], display_labels=[\"no\", \"yes\"], ax=ax)\n",
    "ax.set_title(\"CONFUSION MATRIX LGB\");\n",
    "plt.savefig(\"report/confusion_matrix_lgb.jpg\")"
   ]
  },
  {
   "cell_type": "code",
   "execution_count": 146,
   "metadata": {},
   "outputs": [
    {
     "data": {
      "image/png": "[encoded data removed]",
      "text/plain": [
       "<Figure size 360x360 with 1 Axes>"
      ]
     },
     "metadata": {
      "needs_background": "light"
     },
     "output_type": "display_data"
    }
   ],
   "source": [
    "fig, ax = plt.subplots(figsize=(5,5))\n",
    "RocCurveDisplay.from_predictions(y_true=y_test, y_pred=y_pred_lgb, name=\"ROC PIPE LGB\", ax=ax)\n",
    "ax.set_title(\"ROC CURVE LGB\");\n",
    "plt.savefig(\"report/roc_curve_lgb.jpg\")"
   ]
  }
 ],
 "metadata": {
  "kernelspec": {
   "display_name": "Python 3.9.12 64-bit ('Anaconda3')",
   "language": "python",
   "name": "python3"
  },
  "language_info": {
   "codemirror_mode": {
    "name": "ipython",
    "version": 3
   },
   "file_extension": ".py",
   "mimetype": "text/x-python",
   "name": "python",
   "nbconvert_exporter": "python",
   "pygments_lexer": "ipython3",
   "version": "3.9.12"
  },
  "vscode": {
   "interpreter": {
    "hash": "ad2bdc8ecc057115af97d19610ffacc2b4e99fae6737bb82f5d7fb13d2f2c186"
   }
  }
 },
 "nbformat": 4,
 "nbformat_minor": 2
}
