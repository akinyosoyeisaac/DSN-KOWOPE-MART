{
 "cells": [
  {
   "cell_type": "markdown",
   "metadata": {},
   "source": [
    "## LOADING LIBRARIES"
   ]
  },
  {
   "cell_type": "code",
   "execution_count": 1,
   "metadata": {},
   "outputs": [],
   "source": [
    "import pandas as pd\n",
    "import numpy as np\n",
    "import seaborn as sns\n",
    "import matplotlib.pyplot as plt\n",
    "from sklearn.preprocessing import StandardScaler\n",
    "from sklearn.feature_selection import SelectKBest, f_classif\n",
    "from sklearn.linear_model import LogisticRegression\n",
    "from sklearn.ensemble import RandomForestClassifier, AdaBoostClassifier, VotingClassifier\n",
    "from sklearn.decomposition import PCA\n",
    "from imblearn.over_sampling import SMOTE\n",
    "from imblearn.under_sampling import RandomUnderSampler\n",
    "from imblearn.pipeline import Pipeline\n",
    "from sklearn.model_selection import train_test_split, StratifiedShuffleSplit\n",
    "from sklearn.metrics import classification_report, RocCurveDisplay, ConfusionMatrixDisplay\n",
    "import os\n",
    "from pandas_profiling import ProfileReport\n",
    "%matplotlib inline"
   ]
  },
  {
   "cell_type": "code",
   "execution_count": 2,
   "metadata": {},
   "outputs": [
    {
     "name": "stdout",
     "output_type": "stream",
     "text": [
      "c:\\Users\\CARNOT\\DSN\\DSN-KOWOPE-MART\n"
     ]
    }
   ],
   "source": [
    "%cd .."
   ]
  },
  {
   "cell_type": "markdown",
   "metadata": {},
   "source": [
    "## Files Directory"
   ]
  },
  {
   "cell_type": "code",
   "execution_count": 3,
   "metadata": {},
   "outputs": [],
   "source": [
    "train_dir = \"data/Train.csv\"\n",
    "test_dir = \"data/Test.csv\""
   ]
  },
  {
   "cell_type": "markdown",
   "metadata": {},
   "source": [
    "## Loading Train data"
   ]
  },
  {
   "cell_type": "code",
   "execution_count": 4,
   "metadata": {
    "scrolled": true
   },
   "outputs": [
    {
     "data": {
      "text/html": [
       "<div>\n",
       "<style scoped>\n",
       "    .dataframe tbody tr th:only-of-type {\n",
       "        vertical-align: middle;\n",
       "    }\n",
       "\n",
       "    .dataframe tbody tr th {\n",
       "        vertical-align: top;\n",
       "    }\n",
       "\n",
       "    .dataframe thead th {\n",
       "        text-align: right;\n",
       "    }\n",
       "</style>\n",
       "<table border=\"1\" class=\"dataframe\">\n",
       "  <thead>\n",
       "    <tr style=\"text-align: right;\">\n",
       "      <th></th>\n",
       "      <th>Applicant_ID</th>\n",
       "      <th>form_field1</th>\n",
       "      <th>form_field2</th>\n",
       "      <th>form_field3</th>\n",
       "      <th>form_field4</th>\n",
       "      <th>form_field5</th>\n",
       "      <th>form_field6</th>\n",
       "      <th>form_field7</th>\n",
       "      <th>form_field8</th>\n",
       "      <th>form_field9</th>\n",
       "      <th>...</th>\n",
       "      <th>form_field42</th>\n",
       "      <th>form_field43</th>\n",
       "      <th>form_field44</th>\n",
       "      <th>form_field45</th>\n",
       "      <th>form_field46</th>\n",
       "      <th>form_field47</th>\n",
       "      <th>form_field48</th>\n",
       "      <th>form_field49</th>\n",
       "      <th>form_field50</th>\n",
       "      <th>default_status</th>\n",
       "    </tr>\n",
       "  </thead>\n",
       "  <tbody>\n",
       "    <tr>\n",
       "      <th>0</th>\n",
       "      <td>Apcnt_1000000</td>\n",
       "      <td>3436.0</td>\n",
       "      <td>0.28505</td>\n",
       "      <td>1.6560</td>\n",
       "      <td>0.0</td>\n",
       "      <td>0.000</td>\n",
       "      <td>0.0</td>\n",
       "      <td>10689720.0</td>\n",
       "      <td>252072.0</td>\n",
       "      <td>4272776.0</td>\n",
       "      <td>...</td>\n",
       "      <td>0.392854</td>\n",
       "      <td>2.02</td>\n",
       "      <td>0.711632</td>\n",
       "      <td>0.0</td>\n",
       "      <td>0.0</td>\n",
       "      <td>charge</td>\n",
       "      <td>NaN</td>\n",
       "      <td>1.129518</td>\n",
       "      <td>0.044335</td>\n",
       "      <td>no</td>\n",
       "    </tr>\n",
       "    <tr>\n",
       "      <th>1</th>\n",
       "      <td>Apcnt_1000004</td>\n",
       "      <td>3456.0</td>\n",
       "      <td>0.67400</td>\n",
       "      <td>0.2342</td>\n",
       "      <td>0.0</td>\n",
       "      <td>0.000</td>\n",
       "      <td>0.0</td>\n",
       "      <td>898979.0</td>\n",
       "      <td>497531.0</td>\n",
       "      <td>9073814.0</td>\n",
       "      <td>...</td>\n",
       "      <td>0.314281</td>\n",
       "      <td>8.08</td>\n",
       "      <td>0.183584</td>\n",
       "      <td>NaN</td>\n",
       "      <td>0.0</td>\n",
       "      <td>charge</td>\n",
       "      <td>349.805730</td>\n",
       "      <td>1.620483</td>\n",
       "      <td>0.322436</td>\n",
       "      <td>no</td>\n",
       "    </tr>\n",
       "    <tr>\n",
       "      <th>2</th>\n",
       "      <td>Apcnt_1000008</td>\n",
       "      <td>3276.0</td>\n",
       "      <td>0.53845</td>\n",
       "      <td>3.1510</td>\n",
       "      <td>0.0</td>\n",
       "      <td>6.282</td>\n",
       "      <td>NaN</td>\n",
       "      <td>956940.0</td>\n",
       "      <td>NaN</td>\n",
       "      <td>192944.0</td>\n",
       "      <td>...</td>\n",
       "      <td>0.162965</td>\n",
       "      <td>18.18</td>\n",
       "      <td>0.791136</td>\n",
       "      <td>0.0</td>\n",
       "      <td>0.0</td>\n",
       "      <td>charge</td>\n",
       "      <td>NaN</td>\n",
       "      <td>1.513370</td>\n",
       "      <td>0.011640</td>\n",
       "      <td>yes</td>\n",
       "    </tr>\n",
       "    <tr>\n",
       "      <th>3</th>\n",
       "      <td>Apcnt_1000012</td>\n",
       "      <td>3372.0</td>\n",
       "      <td>0.17005</td>\n",
       "      <td>0.5050</td>\n",
       "      <td>0.0</td>\n",
       "      <td>0.000</td>\n",
       "      <td>192166.0</td>\n",
       "      <td>3044703.0</td>\n",
       "      <td>385499.0</td>\n",
       "      <td>3986472.0</td>\n",
       "      <td>...</td>\n",
       "      <td>0.488884</td>\n",
       "      <td>2.02</td>\n",
       "      <td>0.685168</td>\n",
       "      <td>NaN</td>\n",
       "      <td>0.0</td>\n",
       "      <td>charge</td>\n",
       "      <td>89.940100</td>\n",
       "      <td>0.664452</td>\n",
       "      <td>0.082729</td>\n",
       "      <td>no</td>\n",
       "    </tr>\n",
       "    <tr>\n",
       "      <th>4</th>\n",
       "      <td>Apcnt_1000016</td>\n",
       "      <td>3370.0</td>\n",
       "      <td>0.77270</td>\n",
       "      <td>1.1010</td>\n",
       "      <td>0.0</td>\n",
       "      <td>0.000</td>\n",
       "      <td>1556.0</td>\n",
       "      <td>214728.0</td>\n",
       "      <td>214728.0</td>\n",
       "      <td>1284089.0</td>\n",
       "      <td>...</td>\n",
       "      <td>0.275000</td>\n",
       "      <td>12.12</td>\n",
       "      <td>0.438168</td>\n",
       "      <td>0.0</td>\n",
       "      <td>0.0</td>\n",
       "      <td>charge</td>\n",
       "      <td>97.887502</td>\n",
       "      <td>1.427891</td>\n",
       "      <td>0.045630</td>\n",
       "      <td>no</td>\n",
       "    </tr>\n",
       "  </tbody>\n",
       "</table>\n",
       "<p>5 rows × 52 columns</p>\n",
       "</div>"
      ],
      "text/plain": [
       "    Applicant_ID  form_field1  form_field2  form_field3  form_field4  \\\n",
       "0  Apcnt_1000000       3436.0      0.28505       1.6560          0.0   \n",
       "1  Apcnt_1000004       3456.0      0.67400       0.2342          0.0   \n",
       "2  Apcnt_1000008       3276.0      0.53845       3.1510          0.0   \n",
       "3  Apcnt_1000012       3372.0      0.17005       0.5050          0.0   \n",
       "4  Apcnt_1000016       3370.0      0.77270       1.1010          0.0   \n",
       "\n",
       "   form_field5  form_field6  form_field7  form_field8  form_field9  ...  \\\n",
       "0        0.000          0.0   10689720.0     252072.0    4272776.0  ...   \n",
       "1        0.000          0.0     898979.0     497531.0    9073814.0  ...   \n",
       "2        6.282          NaN     956940.0          NaN     192944.0  ...   \n",
       "3        0.000     192166.0    3044703.0     385499.0    3986472.0  ...   \n",
       "4        0.000       1556.0     214728.0     214728.0    1284089.0  ...   \n",
       "\n",
       "   form_field42  form_field43  form_field44  form_field45  form_field46  \\\n",
       "0      0.392854          2.02      0.711632           0.0           0.0   \n",
       "1      0.314281          8.08      0.183584           NaN           0.0   \n",
       "2      0.162965         18.18      0.791136           0.0           0.0   \n",
       "3      0.488884          2.02      0.685168           NaN           0.0   \n",
       "4      0.275000         12.12      0.438168           0.0           0.0   \n",
       "\n",
       "   form_field47  form_field48  form_field49  form_field50  default_status  \n",
       "0        charge           NaN      1.129518      0.044335              no  \n",
       "1        charge    349.805730      1.620483      0.322436              no  \n",
       "2        charge           NaN      1.513370      0.011640             yes  \n",
       "3        charge     89.940100      0.664452      0.082729              no  \n",
       "4        charge     97.887502      1.427891      0.045630              no  \n",
       "\n",
       "[5 rows x 52 columns]"
      ]
     },
     "execution_count": 4,
     "metadata": {},
     "output_type": "execute_result"
    }
   ],
   "source": [
    "train = pd.read_csv(train_dir)\n",
    "train.head()"
   ]
  },
  {
   "cell_type": "code",
   "execution_count": 5,
   "metadata": {},
   "outputs": [
    {
     "data": {
      "text/plain": [
       "(56000, 52)"
      ]
     },
     "execution_count": 5,
     "metadata": {},
     "output_type": "execute_result"
    }
   ],
   "source": [
    "train.shape"
   ]
  },
  {
   "cell_type": "code",
   "execution_count": 17,
   "metadata": {},
   "outputs": [
    {
     "data": {
      "text/plain": [
       "2912000"
      ]
     },
     "execution_count": 17,
     "metadata": {},
     "output_type": "execute_result"
    }
   ],
   "source": [
    "56000*52"
   ]
  },
  {
   "cell_type": "markdown",
   "metadata": {},
   "source": [
    "## Checking for missing values"
   ]
  },
  {
   "cell_type": "code",
   "execution_count": 6,
   "metadata": {},
   "outputs": [
    {
     "name": "stdout",
     "output_type": "stream",
     "text": [
      "Detecting presence of null values\n",
      "\n",
      "Applicant_ID          0\n",
      "form_field1        2529\n",
      "form_field2        3844\n",
      "form_field3         355\n",
      "form_field4         355\n",
      "form_field5         355\n",
      "form_field6       13360\n",
      "form_field7        5163\n",
      "form_field8       13360\n",
      "form_field9        8008\n",
      "form_field10        355\n",
      "form_field11      31421\n",
      "form_field12       9895\n",
      "form_field13       5889\n",
      "form_field14          0\n",
      "form_field15      22475\n",
      "form_field16      13036\n",
      "form_field17      11151\n",
      "form_field18      10402\n",
      "form_field19          4\n",
      "form_field20        355\n",
      "form_field21      15854\n",
      "form_field22      20400\n",
      "form_field23      28123\n",
      "form_field24      13297\n",
      "form_field25       5450\n",
      "form_field26       7438\n",
      "form_field27       9299\n",
      "form_field28        355\n",
      "form_field29        355\n",
      "form_field30      25509\n",
      "form_field31      39408\n",
      "form_field32       5450\n",
      "form_field33       1256\n",
      "form_field34        355\n",
      "form_field35      23148\n",
      "form_field36       1995\n",
      "form_field37       5450\n",
      "form_field38        355\n",
      "form_field39       4211\n",
      "form_field40      43729\n",
      "form_field41      38229\n",
      "form_field42       1323\n",
      "form_field43        568\n",
      "form_field44       5383\n",
      "form_field45      31317\n",
      "form_field46      15904\n",
      "form_field47          0\n",
      "form_field48      20889\n",
      "form_field49        355\n",
      "form_field50      11056\n",
      "default_status        0\n",
      "dtype: int64\n"
     ]
    }
   ],
   "source": [
    "print('Detecting presence of null values\\n')\n",
    "print(train.isnull().sum())"
   ]
  },
  {
   "cell_type": "code",
   "execution_count": 9,
   "metadata": {},
   "outputs": [
    {
     "data": {
      "image/png": "[encoded data removed]",
      "text/plain": [
       "<Figure size 864x504 with 1 Axes>"
      ]
     },
     "metadata": {
      "needs_background": "light"
     },
     "output_type": "display_data"
    }
   ],
   "source": [
    "plt.figure(figsize=(12, 7))\n",
    "(train.isnull().sum()/len(train)).plot.bar()\n",
    "plt.title(\"Plot of Missing Values\", weight=\"bold\", size=12);"
   ]
  },
  {
   "cell_type": "markdown",
   "metadata": {},
   "source": [
    "## EDA"
   ]
  },
  {
   "cell_type": "code",
   "execution_count": 10,
   "metadata": {},
   "outputs": [
    {
     "data": {
      "text/html": [
       "<div>\n",
       "<style scoped>\n",
       "    .dataframe tbody tr th:only-of-type {\n",
       "        vertical-align: middle;\n",
       "    }\n",
       "\n",
       "    .dataframe tbody tr th {\n",
       "        vertical-align: top;\n",
       "    }\n",
       "\n",
       "    .dataframe thead th {\n",
       "        text-align: right;\n",
       "    }\n",
       "</style>\n",
       "<table border=\"1\" class=\"dataframe\">\n",
       "  <thead>\n",
       "    <tr style=\"text-align: right;\">\n",
       "      <th></th>\n",
       "      <th>form_field1</th>\n",
       "      <th>form_field2</th>\n",
       "      <th>form_field3</th>\n",
       "      <th>form_field4</th>\n",
       "      <th>form_field5</th>\n",
       "      <th>form_field6</th>\n",
       "      <th>form_field7</th>\n",
       "      <th>form_field8</th>\n",
       "      <th>form_field9</th>\n",
       "      <th>form_field10</th>\n",
       "      <th>...</th>\n",
       "      <th>form_field40</th>\n",
       "      <th>form_field41</th>\n",
       "      <th>form_field42</th>\n",
       "      <th>form_field43</th>\n",
       "      <th>form_field44</th>\n",
       "      <th>form_field45</th>\n",
       "      <th>form_field46</th>\n",
       "      <th>form_field48</th>\n",
       "      <th>form_field49</th>\n",
       "      <th>form_field50</th>\n",
       "    </tr>\n",
       "  </thead>\n",
       "  <tbody>\n",
       "    <tr>\n",
       "      <th>count</th>\n",
       "      <td>53471.000000</td>\n",
       "      <td>52156.000000</td>\n",
       "      <td>55645.000000</td>\n",
       "      <td>55645.000000</td>\n",
       "      <td>55645.000000</td>\n",
       "      <td>4.264000e+04</td>\n",
       "      <td>5.083700e+04</td>\n",
       "      <td>4.264000e+04</td>\n",
       "      <td>4.799200e+04</td>\n",
       "      <td>5.564500e+04</td>\n",
       "      <td>...</td>\n",
       "      <td>12271.000000</td>\n",
       "      <td>17771.000000</td>\n",
       "      <td>54677.000000</td>\n",
       "      <td>55432.000000</td>\n",
       "      <td>50617.000000</td>\n",
       "      <td>24683.000000</td>\n",
       "      <td>40096.000000</td>\n",
       "      <td>3.511100e+04</td>\n",
       "      <td>55645.000000</td>\n",
       "      <td>4.494400e+04</td>\n",
       "    </tr>\n",
       "    <tr>\n",
       "      <th>mean</th>\n",
       "      <td>3491.795665</td>\n",
       "      <td>0.550737</td>\n",
       "      <td>1.052225</td>\n",
       "      <td>0.851979</td>\n",
       "      <td>1.956317</td>\n",
       "      <td>6.244479e+05</td>\n",
       "      <td>6.865210e+06</td>\n",
       "      <td>2.626690e+06</td>\n",
       "      <td>1.316002e+07</td>\n",
       "      <td>1.185585e+07</td>\n",
       "      <td>...</td>\n",
       "      <td>147.797977</td>\n",
       "      <td>108.117363</td>\n",
       "      <td>0.368215</td>\n",
       "      <td>6.634511</td>\n",
       "      <td>0.563377</td>\n",
       "      <td>0.072520</td>\n",
       "      <td>0.095371</td>\n",
       "      <td>3.052449e+05</td>\n",
       "      <td>1.049061</td>\n",
       "      <td>6.005862e+05</td>\n",
       "    </tr>\n",
       "    <tr>\n",
       "      <th>std</th>\n",
       "      <td>188.462426</td>\n",
       "      <td>0.820979</td>\n",
       "      <td>2.147768</td>\n",
       "      <td>3.157692</td>\n",
       "      <td>10.512396</td>\n",
       "      <td>1.433422e+06</td>\n",
       "      <td>1.912729e+07</td>\n",
       "      <td>3.927355e+06</td>\n",
       "      <td>1.977963e+07</td>\n",
       "      <td>2.669459e+07</td>\n",
       "      <td>...</td>\n",
       "      <td>45.085889</td>\n",
       "      <td>36.765769</td>\n",
       "      <td>0.412858</td>\n",
       "      <td>6.378946</td>\n",
       "      <td>0.196973</td>\n",
       "      <td>0.291146</td>\n",
       "      <td>0.335210</td>\n",
       "      <td>1.647757e+06</td>\n",
       "      <td>1.806160</td>\n",
       "      <td>5.842405e+06</td>\n",
       "    </tr>\n",
       "    <tr>\n",
       "      <th>min</th>\n",
       "      <td>2990.000000</td>\n",
       "      <td>0.000000</td>\n",
       "      <td>0.000000</td>\n",
       "      <td>0.000000</td>\n",
       "      <td>0.000000</td>\n",
       "      <td>0.000000e+00</td>\n",
       "      <td>0.000000e+00</td>\n",
       "      <td>0.000000e+00</td>\n",
       "      <td>0.000000e+00</td>\n",
       "      <td>0.000000e+00</td>\n",
       "      <td>...</td>\n",
       "      <td>0.021000</td>\n",
       "      <td>0.000000</td>\n",
       "      <td>0.000000</td>\n",
       "      <td>0.000000</td>\n",
       "      <td>0.048528</td>\n",
       "      <td>0.000000</td>\n",
       "      <td>0.000000</td>\n",
       "      <td>0.000000e+00</td>\n",
       "      <td>0.000000</td>\n",
       "      <td>0.000000e+00</td>\n",
       "    </tr>\n",
       "    <tr>\n",
       "      <th>25%</th>\n",
       "      <td>3358.000000</td>\n",
       "      <td>0.070788</td>\n",
       "      <td>0.000000</td>\n",
       "      <td>0.000000</td>\n",
       "      <td>0.000000</td>\n",
       "      <td>1.400400e+04</td>\n",
       "      <td>6.869740e+05</td>\n",
       "      <td>1.929440e+05</td>\n",
       "      <td>1.368502e+06</td>\n",
       "      <td>4.500730e+05</td>\n",
       "      <td>...</td>\n",
       "      <td>136.191750</td>\n",
       "      <td>87.055500</td>\n",
       "      <td>0.000000</td>\n",
       "      <td>2.020000</td>\n",
       "      <td>0.411672</td>\n",
       "      <td>0.000000</td>\n",
       "      <td>0.000000</td>\n",
       "      <td>7.710079e+01</td>\n",
       "      <td>0.000000</td>\n",
       "      <td>4.560141e-02</td>\n",
       "    </tr>\n",
       "    <tr>\n",
       "      <th>50%</th>\n",
       "      <td>3484.000000</td>\n",
       "      <td>0.267575</td>\n",
       "      <td>0.062000</td>\n",
       "      <td>0.000000</td>\n",
       "      <td>0.000000</td>\n",
       "      <td>1.155330e+05</td>\n",
       "      <td>2.704328e+06</td>\n",
       "      <td>9.639420e+05</td>\n",
       "      <td>5.506295e+06</td>\n",
       "      <td>3.707559e+06</td>\n",
       "      <td>...</td>\n",
       "      <td>150.000000</td>\n",
       "      <td>118.441500</td>\n",
       "      <td>0.220000</td>\n",
       "      <td>5.050000</td>\n",
       "      <td>0.588648</td>\n",
       "      <td>0.000000</td>\n",
       "      <td>0.000000</td>\n",
       "      <td>3.181243e+02</td>\n",
       "      <td>0.000000</td>\n",
       "      <td>1.703996e-01</td>\n",
       "    </tr>\n",
       "    <tr>\n",
       "      <th>75%</th>\n",
       "      <td>3620.000000</td>\n",
       "      <td>0.719512</td>\n",
       "      <td>1.282000</td>\n",
       "      <td>0.000000</td>\n",
       "      <td>0.000000</td>\n",
       "      <td>5.259280e+05</td>\n",
       "      <td>6.993831e+06</td>\n",
       "      <td>3.751516e+06</td>\n",
       "      <td>1.694552e+07</td>\n",
       "      <td>1.326101e+07</td>\n",
       "      <td>...</td>\n",
       "      <td>167.754000</td>\n",
       "      <td>137.496750</td>\n",
       "      <td>0.628573</td>\n",
       "      <td>10.100000</td>\n",
       "      <td>0.753840</td>\n",
       "      <td>0.000000</td>\n",
       "      <td>0.000000</td>\n",
       "      <td>1.153022e+03</td>\n",
       "      <td>1.181754</td>\n",
       "      <td>4.993370e-01</td>\n",
       "    </tr>\n",
       "    <tr>\n",
       "      <th>max</th>\n",
       "      <td>3900.000000</td>\n",
       "      <td>18.015050</td>\n",
       "      <td>57.371600</td>\n",
       "      <td>91.672200</td>\n",
       "      <td>407.748600</td>\n",
       "      <td>5.313546e+07</td>\n",
       "      <td>2.158794e+09</td>\n",
       "      <td>1.037397e+08</td>\n",
       "      <td>3.200533e+08</td>\n",
       "      <td>2.191361e+09</td>\n",
       "      <td>...</td>\n",
       "      <td>645.450000</td>\n",
       "      <td>255.000000</td>\n",
       "      <td>2.200000</td>\n",
       "      <td>91.910000</td>\n",
       "      <td>0.800000</td>\n",
       "      <td>5.000000</td>\n",
       "      <td>5.000000</td>\n",
       "      <td>5.321014e+07</td>\n",
       "      <td>28.000000</td>\n",
       "      <td>2.307571e+08</td>\n",
       "    </tr>\n",
       "  </tbody>\n",
       "</table>\n",
       "<p>8 rows × 49 columns</p>\n",
       "</div>"
      ],
      "text/plain": [
       "        form_field1   form_field2   form_field3   form_field4   form_field5  \\\n",
       "count  53471.000000  52156.000000  55645.000000  55645.000000  55645.000000   \n",
       "mean    3491.795665      0.550737      1.052225      0.851979      1.956317   \n",
       "std      188.462426      0.820979      2.147768      3.157692     10.512396   \n",
       "min     2990.000000      0.000000      0.000000      0.000000      0.000000   \n",
       "25%     3358.000000      0.070788      0.000000      0.000000      0.000000   \n",
       "50%     3484.000000      0.267575      0.062000      0.000000      0.000000   \n",
       "75%     3620.000000      0.719512      1.282000      0.000000      0.000000   \n",
       "max     3900.000000     18.015050     57.371600     91.672200    407.748600   \n",
       "\n",
       "        form_field6   form_field7   form_field8   form_field9  form_field10  \\\n",
       "count  4.264000e+04  5.083700e+04  4.264000e+04  4.799200e+04  5.564500e+04   \n",
       "mean   6.244479e+05  6.865210e+06  2.626690e+06  1.316002e+07  1.185585e+07   \n",
       "std    1.433422e+06  1.912729e+07  3.927355e+06  1.977963e+07  2.669459e+07   \n",
       "min    0.000000e+00  0.000000e+00  0.000000e+00  0.000000e+00  0.000000e+00   \n",
       "25%    1.400400e+04  6.869740e+05  1.929440e+05  1.368502e+06  4.500730e+05   \n",
       "50%    1.155330e+05  2.704328e+06  9.639420e+05  5.506295e+06  3.707559e+06   \n",
       "75%    5.259280e+05  6.993831e+06  3.751516e+06  1.694552e+07  1.326101e+07   \n",
       "max    5.313546e+07  2.158794e+09  1.037397e+08  3.200533e+08  2.191361e+09   \n",
       "\n",
       "       ...  form_field40  form_field41  form_field42  form_field43  \\\n",
       "count  ...  12271.000000  17771.000000  54677.000000  55432.000000   \n",
       "mean   ...    147.797977    108.117363      0.368215      6.634511   \n",
       "std    ...     45.085889     36.765769      0.412858      6.378946   \n",
       "min    ...      0.021000      0.000000      0.000000      0.000000   \n",
       "25%    ...    136.191750     87.055500      0.000000      2.020000   \n",
       "50%    ...    150.000000    118.441500      0.220000      5.050000   \n",
       "75%    ...    167.754000    137.496750      0.628573     10.100000   \n",
       "max    ...    645.450000    255.000000      2.200000     91.910000   \n",
       "\n",
       "       form_field44  form_field45  form_field46  form_field48  form_field49  \\\n",
       "count  50617.000000  24683.000000  40096.000000  3.511100e+04  55645.000000   \n",
       "mean       0.563377      0.072520      0.095371  3.052449e+05      1.049061   \n",
       "std        0.196973      0.291146      0.335210  1.647757e+06      1.806160   \n",
       "min        0.048528      0.000000      0.000000  0.000000e+00      0.000000   \n",
       "25%        0.411672      0.000000      0.000000  7.710079e+01      0.000000   \n",
       "50%        0.588648      0.000000      0.000000  3.181243e+02      0.000000   \n",
       "75%        0.753840      0.000000      0.000000  1.153022e+03      1.181754   \n",
       "max        0.800000      5.000000      5.000000  5.321014e+07     28.000000   \n",
       "\n",
       "       form_field50  \n",
       "count  4.494400e+04  \n",
       "mean   6.005862e+05  \n",
       "std    5.842405e+06  \n",
       "min    0.000000e+00  \n",
       "25%    4.560141e-02  \n",
       "50%    1.703996e-01  \n",
       "75%    4.993370e-01  \n",
       "max    2.307571e+08  \n",
       "\n",
       "[8 rows x 49 columns]"
      ]
     },
     "execution_count": 10,
     "metadata": {},
     "output_type": "execute_result"
    }
   ],
   "source": [
    "train.describe()"
   ]
  },
  {
   "cell_type": "code",
   "execution_count": 16,
   "metadata": {},
   "outputs": [
    {
     "name": "stdout",
     "output_type": "stream",
     "text": [
      "<class 'pandas.core.frame.DataFrame'>\n",
      "RangeIndex: 56000 entries, 0 to 55999\n",
      "Data columns (total 52 columns):\n",
      " #   Column          Non-Null Count  Dtype  \n",
      "---  ------          --------------  -----  \n",
      " 0   Applicant_ID    56000 non-null  object \n",
      " 1   form_field1     53471 non-null  float64\n",
      " 2   form_field2     52156 non-null  float64\n",
      " 3   form_field3     55645 non-null  float64\n",
      " 4   form_field4     55645 non-null  float64\n",
      " 5   form_field5     55645 non-null  float64\n",
      " 6   form_field6     42640 non-null  float64\n",
      " 7   form_field7     50837 non-null  float64\n",
      " 8   form_field8     42640 non-null  float64\n",
      " 9   form_field9     47992 non-null  float64\n",
      " 10  form_field10    55645 non-null  float64\n",
      " 11  form_field11    24579 non-null  float64\n",
      " 12  form_field12    46105 non-null  float64\n",
      " 13  form_field13    50111 non-null  float64\n",
      " 14  form_field14    56000 non-null  int64  \n",
      " 15  form_field15    33525 non-null  float64\n",
      " 16  form_field16    42964 non-null  float64\n",
      " 17  form_field17    44849 non-null  float64\n",
      " 18  form_field18    45598 non-null  float64\n",
      " 19  form_field19    55996 non-null  float64\n",
      " 20  form_field20    55645 non-null  float64\n",
      " 21  form_field21    40146 non-null  float64\n",
      " 22  form_field22    35600 non-null  float64\n",
      " 23  form_field23    27877 non-null  float64\n",
      " 24  form_field24    42703 non-null  float64\n",
      " 25  form_field25    50550 non-null  float64\n",
      " 26  form_field26    48562 non-null  float64\n",
      " 27  form_field27    46701 non-null  float64\n",
      " 28  form_field28    55645 non-null  float64\n",
      " 29  form_field29    55645 non-null  float64\n",
      " 30  form_field30    30491 non-null  float64\n",
      " 31  form_field31    16592 non-null  float64\n",
      " 32  form_field32    50550 non-null  float64\n",
      " 33  form_field33    54744 non-null  float64\n",
      " 34  form_field34    55645 non-null  float64\n",
      " 35  form_field35    32852 non-null  float64\n",
      " 36  form_field36    54005 non-null  float64\n",
      " 37  form_field37    50550 non-null  float64\n",
      " 38  form_field38    55645 non-null  float64\n",
      " 39  form_field39    51789 non-null  float64\n",
      " 40  form_field40    12271 non-null  float64\n",
      " 41  form_field41    17771 non-null  float64\n",
      " 42  form_field42    54677 non-null  float64\n",
      " 43  form_field43    55432 non-null  float64\n",
      " 44  form_field44    50617 non-null  float64\n",
      " 45  form_field45    24683 non-null  float64\n",
      " 46  form_field46    40096 non-null  float64\n",
      " 47  form_field47    56000 non-null  object \n",
      " 48  form_field48    35111 non-null  float64\n",
      " 49  form_field49    55645 non-null  float64\n",
      " 50  form_field50    44944 non-null  float64\n",
      " 51  default_status  56000 non-null  object \n",
      "dtypes: float64(48), int64(1), object(3)\n",
      "memory usage: 22.2+ MB\n"
     ]
    }
   ],
   "source": [
    "train.info()"
   ]
  },
  {
   "cell_type": "code",
   "execution_count": 7,
   "metadata": {},
   "outputs": [],
   "source": [
    "profile1 = ProfileReport(train.iloc[:, 0:20])"
   ]
  },
  {
   "cell_type": "code",
   "execution_count": 8,
   "metadata": {},
   "outputs": [
    {
     "data": {
      "application/vnd.jupyter.widget-view+json": {
       "model_id": "a17b53bb818d46cfb79228e3335c97d4",
       "version_major": 2,
       "version_minor": 0
      },
      "text/plain": [
       "Summarize dataset:   0%|          | 0/5 [00:00<?, ?it/s]"
      ]
     },
     "metadata": {},
     "output_type": "display_data"
    }
   ],
   "source": [
    "profile1"
   ]
  },
  {
   "cell_type": "code",
   "execution_count": 19,
   "metadata": {
    "scrolled": true
   },
   "outputs": [
    {
     "name": "stdout",
     "output_type": "stream",
     "text": [
      "            Checking if the class is balance/n\n"
     ]
    },
    {
     "name": "stderr",
     "output_type": "stream",
     "text": [
      "C:\\Users\\CARNOT\\AppData\\Roaming\\Python\\Python39\\site-packages\\seaborn\\_decorators.py:36: FutureWarning: Pass the following variable as a keyword arg: x. From version 0.12, the only valid positional argument will be `data`, and passing other arguments without an explicit keyword will result in an error or misinterpretation.\n",
      "  warnings.warn(\n"
     ]
    },
    {
     "data": {
      "image/png": "[encoded data removed]",
      "text/plain": [
       "<Figure size 432x288 with 1 Axes>"
      ]
     },
     "metadata": {
      "needs_background": "light"
     },
     "output_type": "display_data"
    }
   ],
   "source": [
    "print('            Checking if the class is balance/n')\n",
    "sns.countplot(train.default_status);"
   ]
  },
  {
   "cell_type": "code",
   "execution_count": 8,
   "metadata": {},
   "outputs": [
    {
     "name": "stdout",
     "output_type": "stream",
     "text": [
      "no     42285\n",
      "yes    13715\n",
      "Name: default_status, dtype: int64 \n",
      "\n",
      "% of count non-fraud 0: 75.50892857142857\n",
      "--------------------------------------------\n",
      "% of count non-fraud 1: 24.491071428571427\n"
     ]
    }
   ],
   "source": [
    "count = train['default_status'].value_counts()\n",
    "print(count, '\\n')\n",
    "print(f'% of count non-fraud 0: {(count.iloc[0]/len(train))*100}')\n",
    "print('-'*44)\n",
    "print(f'% of count non-fraud 1: {(count.iloc[1]/len(train))*100}')"
   ]
  },
  {
   "cell_type": "markdown",
   "metadata": {},
   "source": [
    "## Generating the target or output and onehotencoding the output"
   ]
  },
  {
   "cell_type": "code",
   "execution_count": 9,
   "metadata": {},
   "outputs": [],
   "source": [
    "y = train.iloc[:,-1]\n",
    "mapping = {i:k for i, k in zip(y.unique(), range(len(y.unique())))}\n",
    "y = y.map(mapping)"
   ]
  },
  {
   "cell_type": "markdown",
   "metadata": {},
   "source": [
    "## Generating the input \n",
    "*onehotencoding the string input for form_field47"
   ]
  },
  {
   "cell_type": "code",
   "execution_count": 10,
   "metadata": {},
   "outputs": [],
   "source": [
    "X = train.drop(['Applicant_ID', 'default_status'], 1)\n",
    "mapping_ = {i:k for i, k in zip(X['form_field47'].unique(), \n",
    "                                range(len(X['form_field47'].unique())))}\n",
    "X['form_field47'] = X['form_field47'].map(mapping_)\n",
    "for val in X.columns:\n",
    "    X[val] = X[val].fillna(X[val].median())"
   ]
  },
  {
   "cell_type": "markdown",
   "metadata": {},
   "source": [
    "## Normalization"
   ]
  },
  {
   "cell_type": "code",
   "execution_count": 11,
   "metadata": {},
   "outputs": [
    {
     "data": {
      "image/png": "[encoded data removed]",
      "text/plain": [
       "<Figure size 1440x720 with 50 Axes>"
      ]
     },
     "metadata": {},
     "output_type": "display_data"
    }
   ],
   "source": [
    "fig, axes = plt.subplots(10, 5, figsize = (20, 10), subplot_kw={'xticks':(), 'yticks': ()})\n",
    "for ax, i in zip(axes.ravel(), X.columns):\n",
    "    ax.hist(X[i])\n",
    "    ax.set_title(i)"
   ]
  },
  {
   "cell_type": "code",
   "execution_count": 12,
   "metadata": {},
   "outputs": [],
   "source": [
    "sc = StandardScaler()\n",
    "X_std = sc.fit_transform(X.values)"
   ]
  },
  {
   "cell_type": "code",
   "execution_count": 13,
   "metadata": {
    "scrolled": true
   },
   "outputs": [
    {
     "data": {
      "image/png": "[encoded data removed]",
      "text/plain": [
       "<Figure size 1440x720 with 50 Axes>"
      ]
     },
     "metadata": {},
     "output_type": "display_data"
    }
   ],
   "source": [
    "fig, axes = plt.subplots(10, 5, figsize = (20, 10), subplot_kw={'xticks':(), 'yticks': ()})\n",
    "for ax, i, j in zip(axes.ravel(), X_std, X.columns):\n",
    "    ax.hist(i)\n",
    "    ax.set_title(j)"
   ]
  },
  {
   "cell_type": "markdown",
   "metadata": {},
   "source": [
    "## FEATURE SECLECTION"
   ]
  },
  {
   "cell_type": "code",
   "execution_count": 14,
   "metadata": {
    "scrolled": true
   },
   "outputs": [
    {
     "data": {
      "text/plain": [
       "(56000, 30)"
      ]
     },
     "execution_count": 14,
     "metadata": {},
     "output_type": "execute_result"
    }
   ],
   "source": [
    "skb = SelectKBest(score_func = f_classif, k = 30)\n",
    "X_best = skb.fit_transform(X_std, y)\n",
    "X_best.shape"
   ]
  },
  {
   "cell_type": "markdown",
   "metadata": {},
   "source": [
    "## TRAINING WITH THE ORGINAL DATA\n",
    "\n",
    "*Spitting the train data\n",
    "*Transforming the train data"
   ]
  },
  {
   "cell_type": "code",
   "execution_count": 15,
   "metadata": {},
   "outputs": [],
   "source": [
    "X_train, X_test, y_train, y_test = train_test_split(X_std, y.values,\n",
    "                                                    random_state = 1, stratify = y.values)"
   ]
  },
  {
   "cell_type": "code",
   "execution_count": 16,
   "metadata": {},
   "outputs": [
    {
     "name": "stdout",
     "output_type": "stream",
     "text": [
      "roc_auc_score:  0.6668539875583065\n"
     ]
    }
   ],
   "source": [
    "log = LogisticRegression()\n",
    "log.fit(X_train, y_train)\n",
    "y_predlog = log.predict(X_test)\n",
    "print('roc_auc_score: ',roc_auc_score(y_test, y_predlog))"
   ]
  },
  {
   "cell_type": "code",
   "execution_count": 17,
   "metadata": {},
   "outputs": [
    {
     "name": "stdout",
     "output_type": "stream",
     "text": [
      "roc_auc_score:  0.6705547890296388\n"
     ]
    }
   ],
   "source": [
    "rfc = RandomForestClassifier(random_state= 1)\n",
    "rfc.fit(X_train, y_train)\n",
    "y_predrfc = rfc.predict(X_test)\n",
    "print('roc_auc_score: ',roc_auc_score(y_test, y_predrfc))"
   ]
  },
  {
   "cell_type": "markdown",
   "metadata": {},
   "source": [
    "## Oversampling Data\n",
    "\n",
    "*Splitting the data"
   ]
  },
  {
   "cell_type": "code",
   "execution_count": 18,
   "metadata": {},
   "outputs": [],
   "source": [
    "oversample_data = SMOTE(random_state= 4)\n",
    "X_oversample, y_oversample = oversample_data.fit_resample(X_std, y.values)"
   ]
  },
  {
   "cell_type": "code",
   "execution_count": 19,
   "metadata": {},
   "outputs": [],
   "source": [
    "SSS = StratifiedShuffleSplit(test_size = 0.2, random_state= 40)\n",
    "for trainindex, testindex in SSS.split(X_oversample, y_oversample):\n",
    "    X_train_oversample, X_test_oversample = X_oversample[trainindex], X_oversample[testindex]\n",
    "    y_train_oversample, y_test_oversample = y_oversample[trainindex], y_oversample[testindex]"
   ]
  },
  {
   "cell_type": "markdown",
   "metadata": {},
   "source": [
    "## Training the oversampled data"
   ]
  },
  {
   "cell_type": "code",
   "execution_count": 20,
   "metadata": {},
   "outputs": [
    {
     "name": "stdout",
     "output_type": "stream",
     "text": [
      "roc_auc_score:  0.7502660517914154\n"
     ]
    }
   ],
   "source": [
    "log_oversample = LogisticRegression()\n",
    "log_oversample.fit(X_train_oversample, y_train_oversample)\n",
    "y_predlogover = log_oversample.predict(X_test_oversample)\n",
    "print('roc_auc_score: ', roc_auc_score(y_test_oversample, y_predlogover))"
   ]
  },
  {
   "cell_type": "code",
   "execution_count": 21,
   "metadata": {},
   "outputs": [
    {
     "name": "stdout",
     "output_type": "stream",
     "text": [
      "roc_auc_score:  0.864490954239092\n"
     ]
    }
   ],
   "source": [
    "rfc_oversample = RandomForestClassifier(random_state= 1)\n",
    "rfc_oversample.fit(X_train_oversample, y_train_oversample)\n",
    "y_predrfcover = rfc_oversample.predict(X_test_oversample)\n",
    "print('roc_auc_score: ',roc_auc_score(y_test_oversample, y_predrfcover))"
   ]
  },
  {
   "cell_type": "code",
   "execution_count": 22,
   "metadata": {},
   "outputs": [
    {
     "name": "stdout",
     "output_type": "stream",
     "text": [
      "roc_auc_score:  0.7936620551022822\n"
     ]
    }
   ],
   "source": [
    "ada = AdaBoostClassifier(random_state=1)\n",
    "ada.fit(X_train_oversample, y_train_oversample)\n",
    "y_predada = ada.predict(X_test_oversample)\n",
    "print('roc_auc_score: ',roc_auc_score(y_test_oversample, y_predada))"
   ]
  },
  {
   "cell_type": "code",
   "execution_count": 23,
   "metadata": {},
   "outputs": [
    {
     "name": "stdout",
     "output_type": "stream",
     "text": [
      "roc_auc_score:  0.8220409128532576\n"
     ]
    }
   ],
   "source": [
    "vote3 = VotingClassifier(estimators=[('ada', ada), ('rcf', rfc_oversample), ('lr', log_oversample)], voting= 'soft' )\n",
    "vote3.fit(X_train_oversample, y_train_oversample)\n",
    "y_predvote = vote3.predict(X_test_oversample)\n",
    "print('roc_auc_score: ',roc_auc_score(y_test_oversample, y_predvote))"
   ]
  },
  {
   "cell_type": "code",
   "execution_count": 24,
   "metadata": {},
   "outputs": [
    {
     "name": "stdout",
     "output_type": "stream",
     "text": [
      "roc_auc_score:  0.8632493792124867\n"
     ]
    }
   ],
   "source": [
    "votesoft = VotingClassifier(estimators=[('AD', ada), ('rcf', rfc_oversample)], voting= 'soft' )\n",
    "votesoft.fit(X_train_oversample, y_train_oversample)\n",
    "y_predvote = votesoft.predict(X_test_oversample)\n",
    "print('roc_auc_score: ',roc_auc_score(y_test_oversample, y_predvote))"
   ]
  },
  {
   "cell_type": "markdown",
   "metadata": {},
   "source": [
    "## Striking a balance between the class 1 and class 0"
   ]
  },
  {
   "cell_type": "code",
   "execution_count": 25,
   "metadata": {},
   "outputs": [],
   "source": [
    "over = SMOTE(sampling_strategy= 0.6)\n",
    "under = RandomUnderSampler(sampling_strategy= 0.5)"
   ]
  },
  {
   "cell_type": "code",
   "execution_count": 26,
   "metadata": {
    "scrolled": false
   },
   "outputs": [
    {
     "name": "stdout",
     "output_type": "stream",
     "text": [
      "Counter({0: 42285, 1: 25371}) Counter({0: 27430, 1: 13715})\n"
     ]
    }
   ],
   "source": [
    "X_over, y_over = over.fit_resample(X_std, y)\n",
    "X_under, y_under = under.fit_resample(X_std, y)\n",
    "print(Counter(y_over), Counter(y_under))"
   ]
  },
  {
   "cell_type": "code",
   "execution_count": 27,
   "metadata": {},
   "outputs": [
    {
     "name": "stdout",
     "output_type": "stream",
     "text": [
      "(52801, 51)\n"
     ]
    }
   ],
   "source": [
    "over_concat = pd.concat([pd.DataFrame(X_over), y_over], axis = 1)\n",
    "under_concat = pd.concat([pd.DataFrame(X_under), y_under], axis = 1)\n",
    "\n",
    "new_data = pd.concat([over_concat[over_concat['default_status'] == 1], \n",
    "                      under_concat[under_concat['default_status'] == 0]])\n",
    "\n",
    "new_data = new_data.sample(frac= 1, random_state=20)\n",
    "\n",
    "print(new_data.shape)"
   ]
  },
  {
   "cell_type": "code",
   "execution_count": 28,
   "metadata": {},
   "outputs": [],
   "source": [
    "X_new, y_new = np.array(new_data.iloc[:,:-1]), np.array(new_data.iloc[:, -1])"
   ]
  },
  {
   "cell_type": "code",
   "execution_count": 29,
   "metadata": {},
   "outputs": [],
   "source": [
    "for trainindex, testindex in SSS.split(X_new, y_new):\n",
    "    X_train_new, X_test_new = X_new[trainindex], X_new[testindex]\n",
    "    y_train_new, y_test_new = y_new[trainindex], y_new[testindex]"
   ]
  },
  {
   "cell_type": "code",
   "execution_count": 30,
   "metadata": {},
   "outputs": [
    {
     "name": "stdout",
     "output_type": "stream",
     "text": [
      "roc_auc_score:  0.8114150304671631\n"
     ]
    }
   ],
   "source": [
    "rfc_new = RandomForestClassifier(random_state= 1)\n",
    "rfc_new.fit(X_train_new, y_train_new)\n",
    "y_predrfcnew = rfc_new.predict(X_test_new)\n",
    "print('roc_auc_score: ',roc_auc_score(y_test_new, y_predrfcnew))"
   ]
  },
  {
   "cell_type": "markdown",
   "metadata": {},
   "source": [
    "##               PREDICTING FOR THE TEST DIRECTORY"
   ]
  },
  {
   "cell_type": "code",
   "execution_count": 31,
   "metadata": {},
   "outputs": [
    {
     "name": "stdout",
     "output_type": "stream",
     "text": [
      "C:\\Users\\BOLAJI\\Desktop\\DSN_WORK\\r\\test.csv\n"
     ]
    },
    {
     "data": {
      "text/html": [
       "<div>\n",
       "<style scoped>\n",
       "    .dataframe tbody tr th:only-of-type {\n",
       "        vertical-align: middle;\n",
       "    }\n",
       "\n",
       "    .dataframe tbody tr th {\n",
       "        vertical-align: top;\n",
       "    }\n",
       "\n",
       "    .dataframe thead th {\n",
       "        text-align: right;\n",
       "    }\n",
       "</style>\n",
       "<table border=\"1\" class=\"dataframe\">\n",
       "  <thead>\n",
       "    <tr style=\"text-align: right;\">\n",
       "      <th></th>\n",
       "      <th>Applicant_ID</th>\n",
       "      <th>form_field1</th>\n",
       "      <th>form_field2</th>\n",
       "      <th>form_field3</th>\n",
       "      <th>form_field4</th>\n",
       "      <th>form_field5</th>\n",
       "      <th>form_field6</th>\n",
       "      <th>form_field7</th>\n",
       "      <th>form_field8</th>\n",
       "      <th>form_field9</th>\n",
       "      <th>...</th>\n",
       "      <th>form_field41</th>\n",
       "      <th>form_field42</th>\n",
       "      <th>form_field43</th>\n",
       "      <th>form_field44</th>\n",
       "      <th>form_field45</th>\n",
       "      <th>form_field46</th>\n",
       "      <th>form_field47</th>\n",
       "      <th>form_field48</th>\n",
       "      <th>form_field49</th>\n",
       "      <th>form_field50</th>\n",
       "    </tr>\n",
       "  </thead>\n",
       "  <tbody>\n",
       "    <tr>\n",
       "      <td>0</td>\n",
       "      <td>Apcnt_1000032</td>\n",
       "      <td>3236.0</td>\n",
       "      <td>0.34875</td>\n",
       "      <td>10.2006</td>\n",
       "      <td>0.0000</td>\n",
       "      <td>0.0</td>\n",
       "      <td>418564.0</td>\n",
       "      <td>418564.0</td>\n",
       "      <td>418564.0</td>\n",
       "      <td>540710.0</td>\n",
       "      <td>...</td>\n",
       "      <td>NaN</td>\n",
       "      <td>0.825000</td>\n",
       "      <td>1.01</td>\n",
       "      <td>0.800000</td>\n",
       "      <td>NaN</td>\n",
       "      <td>0.0</td>\n",
       "      <td>charge</td>\n",
       "      <td>NaN</td>\n",
       "      <td>0.000000</td>\n",
       "      <td>0.011221</td>\n",
       "    </tr>\n",
       "    <tr>\n",
       "      <td>1</td>\n",
       "      <td>Apcnt_1000048</td>\n",
       "      <td>3284.0</td>\n",
       "      <td>1.27360</td>\n",
       "      <td>2.9606</td>\n",
       "      <td>9.0198</td>\n",
       "      <td>0.0</td>\n",
       "      <td>0.0</td>\n",
       "      <td>9858816.0</td>\n",
       "      <td>49014.0</td>\n",
       "      <td>1510098.0</td>\n",
       "      <td>...</td>\n",
       "      <td>18.8415</td>\n",
       "      <td>0.507694</td>\n",
       "      <td>4.04</td>\n",
       "      <td>0.623248</td>\n",
       "      <td>1.0</td>\n",
       "      <td>0.0</td>\n",
       "      <td>lending</td>\n",
       "      <td>NaN</td>\n",
       "      <td>0.504974</td>\n",
       "      <td>0.043525</td>\n",
       "    </tr>\n",
       "    <tr>\n",
       "      <td>2</td>\n",
       "      <td>Apcnt_1000052</td>\n",
       "      <td>NaN</td>\n",
       "      <td>0.27505</td>\n",
       "      <td>0.0600</td>\n",
       "      <td>0.0000</td>\n",
       "      <td>0.0</td>\n",
       "      <td>NaN</td>\n",
       "      <td>NaN</td>\n",
       "      <td>NaN</td>\n",
       "      <td>NaN</td>\n",
       "      <td>...</td>\n",
       "      <td>NaN</td>\n",
       "      <td>NaN</td>\n",
       "      <td>0.00</td>\n",
       "      <td>NaN</td>\n",
       "      <td>NaN</td>\n",
       "      <td>NaN</td>\n",
       "      <td>charge</td>\n",
       "      <td>NaN</td>\n",
       "      <td>0.000000</td>\n",
       "      <td>NaN</td>\n",
       "    </tr>\n",
       "    <tr>\n",
       "      <td>3</td>\n",
       "      <td>Apcnt_1000076</td>\n",
       "      <td>3232.0</td>\n",
       "      <td>0.28505</td>\n",
       "      <td>2.8032</td>\n",
       "      <td>0.0000</td>\n",
       "      <td>0.0</td>\n",
       "      <td>0.0</td>\n",
       "      <td>473802.0</td>\n",
       "      <td>473802.0</td>\n",
       "      <td>1724437.0</td>\n",
       "      <td>...</td>\n",
       "      <td>NaN</td>\n",
       "      <td>0.916663</td>\n",
       "      <td>2.02</td>\n",
       "      <td>0.464224</td>\n",
       "      <td>NaN</td>\n",
       "      <td>NaN</td>\n",
       "      <td>charge</td>\n",
       "      <td>90.163742</td>\n",
       "      <td>0.788809</td>\n",
       "      <td>0.104029</td>\n",
       "    </tr>\n",
       "    <tr>\n",
       "      <td>4</td>\n",
       "      <td>Apcnt_1000080</td>\n",
       "      <td>3466.0</td>\n",
       "      <td>2.09545</td>\n",
       "      <td>0.8318</td>\n",
       "      <td>2.5182</td>\n",
       "      <td>0.0</td>\n",
       "      <td>19839.0</td>\n",
       "      <td>1150662.0</td>\n",
       "      <td>1150662.0</td>\n",
       "      <td>7860523.0</td>\n",
       "      <td>...</td>\n",
       "      <td>NaN</td>\n",
       "      <td>0.234047</td>\n",
       "      <td>23.23</td>\n",
       "      <td>0.726688</td>\n",
       "      <td>0.0</td>\n",
       "      <td>0.0</td>\n",
       "      <td>lending</td>\n",
       "      <td>1303.587148</td>\n",
       "      <td>1.637733</td>\n",
       "      <td>0.163124</td>\n",
       "    </tr>\n",
       "  </tbody>\n",
       "</table>\n",
       "<p>5 rows × 51 columns</p>\n",
       "</div>"
      ],
      "text/plain": [
       "    Applicant_ID  form_field1  form_field2  form_field3  form_field4  \\\n",
       "0  Apcnt_1000032       3236.0      0.34875      10.2006       0.0000   \n",
       "1  Apcnt_1000048       3284.0      1.27360       2.9606       9.0198   \n",
       "2  Apcnt_1000052          NaN      0.27505       0.0600       0.0000   \n",
       "3  Apcnt_1000076       3232.0      0.28505       2.8032       0.0000   \n",
       "4  Apcnt_1000080       3466.0      2.09545       0.8318       2.5182   \n",
       "\n",
       "   form_field5  form_field6  form_field7  form_field8  form_field9  ...  \\\n",
       "0          0.0     418564.0     418564.0     418564.0     540710.0  ...   \n",
       "1          0.0          0.0    9858816.0      49014.0    1510098.0  ...   \n",
       "2          0.0          NaN          NaN          NaN          NaN  ...   \n",
       "3          0.0          0.0     473802.0     473802.0    1724437.0  ...   \n",
       "4          0.0      19839.0    1150662.0    1150662.0    7860523.0  ...   \n",
       "\n",
       "   form_field41  form_field42  form_field43  form_field44  form_field45  \\\n",
       "0           NaN      0.825000          1.01      0.800000           NaN   \n",
       "1       18.8415      0.507694          4.04      0.623248           1.0   \n",
       "2           NaN           NaN          0.00           NaN           NaN   \n",
       "3           NaN      0.916663          2.02      0.464224           NaN   \n",
       "4           NaN      0.234047         23.23      0.726688           0.0   \n",
       "\n",
       "   form_field46  form_field47  form_field48  form_field49  form_field50  \n",
       "0           0.0        charge           NaN      0.000000      0.011221  \n",
       "1           0.0       lending           NaN      0.504974      0.043525  \n",
       "2           NaN        charge           NaN      0.000000           NaN  \n",
       "3           NaN        charge     90.163742      0.788809      0.104029  \n",
       "4           0.0       lending   1303.587148      1.637733      0.163124  \n",
       "\n",
       "[5 rows x 51 columns]"
      ]
     },
     "execution_count": 31,
     "metadata": {},
     "output_type": "execute_result"
    }
   ],
   "source": [
    "test_file = os.path.join(dir_name, test_dir)\n",
    "test_data = pd.read_csv(test_file)\n",
    "print(test_file)\n",
    "test_data.head()"
   ]
  },
  {
   "cell_type": "code",
   "execution_count": 32,
   "metadata": {},
   "outputs": [],
   "source": [
    "Apid = test_data['Applicant_ID']\n",
    "X_unknown = test_data.drop(['Applicant_ID'], 1)\n",
    "mapping_ = {i:k for i, k in zip(X_unknown['form_field47'].unique(), \n",
    "                                range(len(X_unknown['form_field47'].unique())))}\n",
    "X_unknown['form_field47'] = X_unknown['form_field47'].map(mapping_)\n",
    "for val in X_unknown.columns:\n",
    "    X_unknown[val] = X_unknown[val].fillna(X_unknown[val].median())"
   ]
  },
  {
   "cell_type": "code",
   "execution_count": 33,
   "metadata": {},
   "outputs": [],
   "source": [
    "X_std_unknown = sc.transform(X_unknown.values)"
   ]
  },
  {
   "cell_type": "code",
   "execution_count": 34,
   "metadata": {},
   "outputs": [],
   "source": [
    "y_pred = log.predict(X_std_unknown)\n",
    "y_pred = pd.Series(y_pred, name= 'predicted_status')\n",
    "output = pd.concat([Apid, y_pred], axis = 1)\n",
    "output.to_csv('predict_log_orginal.csv', index = False)"
   ]
  },
  {
   "cell_type": "code",
   "execution_count": 35,
   "metadata": {},
   "outputs": [],
   "source": [
    "y_pred = rfc.predict(X_std_unknown)\n",
    "y_pred = pd.Series(y_pred, name= 'predicted_status')\n",
    "output = pd.concat([Apid, y_pred], axis = 1)\n",
    "output.to_csv('predict_rfc_orginal.csv', index = False)"
   ]
  },
  {
   "cell_type": "code",
   "execution_count": 36,
   "metadata": {},
   "outputs": [],
   "source": [
    "y_pred = log_oversample.predict(X_std_unknown)\n",
    "y_pred = pd.Series(y_pred, name= 'predicted_status')\n",
    "output = pd.concat([Apid, y_pred], axis = 1)\n",
    "output.to_csv('predict_log_oversampled.csv', index = False)"
   ]
  },
  {
   "cell_type": "code",
   "execution_count": 37,
   "metadata": {},
   "outputs": [],
   "source": [
    "y_pred = rfc_oversample.predict(X_std_unknown)\n",
    "y_pred = pd.Series(y_pred, name= 'predicted_status')\n",
    "output = pd.concat([Apid, y_pred], axis = 1)\n",
    "output.to_csv('predict_rfc_oversampled.csv', index = False)"
   ]
  },
  {
   "cell_type": "code",
   "execution_count": 38,
   "metadata": {},
   "outputs": [],
   "source": [
    "y_pred = vote3.predict(X_std_unknown)\n",
    "y_pred = pd.Series(y_pred, name= 'predicted_status')\n",
    "output = pd.concat([Apid, y_pred], axis = 1)\n",
    "output.to_csv('predict_vote3_oversampled.csv', index = False)"
   ]
  },
  {
   "cell_type": "code",
   "execution_count": 39,
   "metadata": {},
   "outputs": [],
   "source": [
    "y_pred = votesoft.predict(X_std_unknown)\n",
    "y_pred = pd.Series(y_pred, name= 'predicted_status')\n",
    "output = pd.concat([Apid, y_pred], axis = 1)\n",
    "output.to_csv('predict_votesoft_oversampled.csv', index = False)"
   ]
  },
  {
   "cell_type": "code",
   "execution_count": 40,
   "metadata": {},
   "outputs": [],
   "source": [
    "y_pred = rfc_new.predict(X_std_unknown)\n",
    "y_pred = pd.Series(y_pred, name= 'predicted_status')\n",
    "output = pd.concat([Apid, y_pred], axis = 1)\n",
    "output.to_csv('predict_rfc_balanced.csv', index = False)"
   ]
  }
 ],
 "metadata": {
  "kernelspec": {
   "display_name": "Python 3.9.12 64-bit ('Anaconda3')",
   "language": "python",
   "name": "python3"
  },
  "language_info": {
   "codemirror_mode": {
    "name": "ipython",
    "version": 3
   },
   "file_extension": ".py",
   "mimetype": "text/x-python",
   "name": "python",
   "nbconvert_exporter": "python",
   "pygments_lexer": "ipython3",
   "version": "3.9.12"
  },
  "vscode": {
   "interpreter": {
    "hash": "ad2bdc8ecc057115af97d19610ffacc2b4e99fae6737bb82f5d7fb13d2f2c186"
   }
  }
 },
 "nbformat": 4,
 "nbformat_minor": 2
}
